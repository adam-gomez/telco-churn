{
 "cells": [
  {
   "cell_type": "code",
   "execution_count": 1,
   "metadata": {},
   "outputs": [],
   "source": [
    "import pandas as pd\n",
    "import numpy as np\n",
    "from scipy import stats\n",
    "import math\n",
    "\n",
    "import matplotlib.pyplot as plt\n",
    "import seaborn as sns\n",
    "\n",
    "from sklearn.preprocessing import LabelEncoder\n",
    "from sklearn.preprocessing import MinMaxScaler\n",
    "\n",
    "from sklearn.model_selection import train_test_split\n",
    "\n",
    "from sklearn.ensemble import RandomForestClassifier\n",
    "from sklearn.neighbors import KNeighborsClassifier\n",
    "from sklearn.metrics import confusion_matrix\n",
    "from sklearn.linear_model import LogisticRegression\n",
    "from sklearn.metrics import classification_report, recall_score\n",
    "from sklearn.tree import DecisionTreeClassifier\n",
    "from sklearn.metrics import f1_score\n",
    "\n",
    "# ignore warnings\n",
    "import warnings\n",
    "warnings.filterwarnings(\"ignore\")\n",
    "\n",
    "from acquire import get_telco_data\n",
    "from prepare import prep_telco_data\n",
    "from prepare import prep_telco_data_prediction"
   ]
  },
  {
   "cell_type": "markdown",
   "metadata": {},
   "source": [
    "# PLAN"
   ]
  },
  {
   "cell_type": "markdown",
   "metadata": {},
   "source": [
    "#### Summary\n",
    "The Codeup Data Science Team wants to understand why Telco customers are churning.\n",
    "\n",
    "The have suggested the following questions:\n",
    "   1. Are there clear groupings where a customer is more likely to churn? What if you consider contract type? Is there a tenure that month-to-month customers are most likely to churn? 1-year contract customers? 2-year customers? Do you have any thoughts on what could be going on? (Be sure to state these thoughts not as facts but as untested hypotheses. Unless you test them!). Plot the rate of churn on a line chart where x is the tenure and y is the rate of churn (customers churned/total customers).\n",
    "   2. Are there features that indicate a higher propensity to churn? like type of Internet service, type of phone service, online security and backup, senior citizens, paying more than x% of customers with the same services, etc.?\n",
    "   3. Is there a price threshold for specific services where the likelihood of churn increases once price for those services goes past that point? If so, what is that point for what service(s)?\n",
    "   4. If we looked at churn rate for month-to-month customers after the 12th month and that of 1-year contract customers after the 12th month, are those rates comparable?\n",
    "\n",
    "#### Goals\n",
    "The goals of the project are to answer the questions and deliver the following:\n",
    "   1. a Jupyter Notebook Report showing process and analysis with goal of finding drivers for customer churn.\n",
    "   2. a README.md file containing project description with goals, a data dictionary, project planning (lay out your process through the data science pipeline), instructions or an explanation of how someone else can recreate your project and findings (What would someone need to be able to recreate your project on their own?), and key findings and takeaways from your project.\n",
    "   3. a CSV file with customer_id, probability of churn, and prediction of churn. (1=churn, 0=not_churn)\n",
    "   4. individual modules, .py files, that hold your functions to acquire and prepare your data.\n",
    "   \n",
    "\n",
    "Clearly state your starting hypotheses (and add the testing of these to your task list)."
   ]
  },
  {
   "cell_type": "markdown",
   "metadata": {},
   "source": [
    "## Data Dictionary"
   ]
  },
  {
   "cell_type": "markdown",
   "metadata": {},
   "source": [
    "# ACQUIRE"
   ]
  },
  {
   "cell_type": "code",
   "execution_count": 2,
   "metadata": {},
   "outputs": [
    {
     "data": {
      "text/html": [
       "<div>\n",
       "<style scoped>\n",
       "    .dataframe tbody tr th:only-of-type {\n",
       "        vertical-align: middle;\n",
       "    }\n",
       "\n",
       "    .dataframe tbody tr th {\n",
       "        vertical-align: top;\n",
       "    }\n",
       "\n",
       "    .dataframe thead th {\n",
       "        text-align: right;\n",
       "    }\n",
       "</style>\n",
       "<table border=\"1\" class=\"dataframe\">\n",
       "  <thead>\n",
       "    <tr style=\"text-align: right;\">\n",
       "      <th></th>\n",
       "      <th>customer_id</th>\n",
       "      <th>gender</th>\n",
       "      <th>senior_citizen</th>\n",
       "      <th>partner</th>\n",
       "      <th>dependents</th>\n",
       "      <th>tenure</th>\n",
       "      <th>phone_service</th>\n",
       "      <th>multiple_lines</th>\n",
       "      <th>internet_service_type_id</th>\n",
       "      <th>online_security</th>\n",
       "      <th>...</th>\n",
       "      <th>device_protection</th>\n",
       "      <th>tech_support</th>\n",
       "      <th>streaming_tv</th>\n",
       "      <th>streaming_movies</th>\n",
       "      <th>contract_type_id</th>\n",
       "      <th>paperless_billing</th>\n",
       "      <th>payment_type_id</th>\n",
       "      <th>monthly_charges</th>\n",
       "      <th>total_charges</th>\n",
       "      <th>churn</th>\n",
       "    </tr>\n",
       "  </thead>\n",
       "  <tbody>\n",
       "    <tr>\n",
       "      <th>0</th>\n",
       "      <td>0002-ORFBO</td>\n",
       "      <td>Female</td>\n",
       "      <td>0</td>\n",
       "      <td>Yes</td>\n",
       "      <td>Yes</td>\n",
       "      <td>9</td>\n",
       "      <td>Yes</td>\n",
       "      <td>No</td>\n",
       "      <td>1</td>\n",
       "      <td>No</td>\n",
       "      <td>...</td>\n",
       "      <td>No</td>\n",
       "      <td>Yes</td>\n",
       "      <td>Yes</td>\n",
       "      <td>No</td>\n",
       "      <td>2</td>\n",
       "      <td>Yes</td>\n",
       "      <td>2</td>\n",
       "      <td>65.6</td>\n",
       "      <td>593.3</td>\n",
       "      <td>No</td>\n",
       "    </tr>\n",
       "    <tr>\n",
       "      <th>1</th>\n",
       "      <td>0003-MKNFE</td>\n",
       "      <td>Male</td>\n",
       "      <td>0</td>\n",
       "      <td>No</td>\n",
       "      <td>No</td>\n",
       "      <td>9</td>\n",
       "      <td>Yes</td>\n",
       "      <td>Yes</td>\n",
       "      <td>1</td>\n",
       "      <td>No</td>\n",
       "      <td>...</td>\n",
       "      <td>No</td>\n",
       "      <td>No</td>\n",
       "      <td>No</td>\n",
       "      <td>Yes</td>\n",
       "      <td>1</td>\n",
       "      <td>No</td>\n",
       "      <td>2</td>\n",
       "      <td>59.9</td>\n",
       "      <td>542.4</td>\n",
       "      <td>No</td>\n",
       "    </tr>\n",
       "    <tr>\n",
       "      <th>2</th>\n",
       "      <td>0004-TLHLJ</td>\n",
       "      <td>Male</td>\n",
       "      <td>0</td>\n",
       "      <td>No</td>\n",
       "      <td>No</td>\n",
       "      <td>4</td>\n",
       "      <td>Yes</td>\n",
       "      <td>No</td>\n",
       "      <td>2</td>\n",
       "      <td>No</td>\n",
       "      <td>...</td>\n",
       "      <td>Yes</td>\n",
       "      <td>No</td>\n",
       "      <td>No</td>\n",
       "      <td>No</td>\n",
       "      <td>1</td>\n",
       "      <td>Yes</td>\n",
       "      <td>1</td>\n",
       "      <td>73.9</td>\n",
       "      <td>280.85</td>\n",
       "      <td>Yes</td>\n",
       "    </tr>\n",
       "    <tr>\n",
       "      <th>3</th>\n",
       "      <td>0011-IGKFF</td>\n",
       "      <td>Male</td>\n",
       "      <td>1</td>\n",
       "      <td>Yes</td>\n",
       "      <td>No</td>\n",
       "      <td>13</td>\n",
       "      <td>Yes</td>\n",
       "      <td>No</td>\n",
       "      <td>2</td>\n",
       "      <td>No</td>\n",
       "      <td>...</td>\n",
       "      <td>Yes</td>\n",
       "      <td>No</td>\n",
       "      <td>Yes</td>\n",
       "      <td>Yes</td>\n",
       "      <td>1</td>\n",
       "      <td>Yes</td>\n",
       "      <td>1</td>\n",
       "      <td>98.0</td>\n",
       "      <td>1237.85</td>\n",
       "      <td>Yes</td>\n",
       "    </tr>\n",
       "    <tr>\n",
       "      <th>4</th>\n",
       "      <td>0013-EXCHZ</td>\n",
       "      <td>Female</td>\n",
       "      <td>1</td>\n",
       "      <td>Yes</td>\n",
       "      <td>No</td>\n",
       "      <td>3</td>\n",
       "      <td>Yes</td>\n",
       "      <td>No</td>\n",
       "      <td>2</td>\n",
       "      <td>No</td>\n",
       "      <td>...</td>\n",
       "      <td>No</td>\n",
       "      <td>Yes</td>\n",
       "      <td>Yes</td>\n",
       "      <td>No</td>\n",
       "      <td>1</td>\n",
       "      <td>Yes</td>\n",
       "      <td>2</td>\n",
       "      <td>83.9</td>\n",
       "      <td>267.4</td>\n",
       "      <td>Yes</td>\n",
       "    </tr>\n",
       "  </tbody>\n",
       "</table>\n",
       "<p>5 rows × 21 columns</p>\n",
       "</div>"
      ],
      "text/plain": [
       "  customer_id  gender  senior_citizen partner dependents  tenure  \\\n",
       "0  0002-ORFBO  Female               0     Yes        Yes       9   \n",
       "1  0003-MKNFE    Male               0      No         No       9   \n",
       "2  0004-TLHLJ    Male               0      No         No       4   \n",
       "3  0011-IGKFF    Male               1     Yes         No      13   \n",
       "4  0013-EXCHZ  Female               1     Yes         No       3   \n",
       "\n",
       "  phone_service multiple_lines  internet_service_type_id online_security  ...  \\\n",
       "0           Yes             No                         1              No  ...   \n",
       "1           Yes            Yes                         1              No  ...   \n",
       "2           Yes             No                         2              No  ...   \n",
       "3           Yes             No                         2              No  ...   \n",
       "4           Yes             No                         2              No  ...   \n",
       "\n",
       "  device_protection tech_support streaming_tv streaming_movies  \\\n",
       "0                No          Yes          Yes               No   \n",
       "1                No           No           No              Yes   \n",
       "2               Yes           No           No               No   \n",
       "3               Yes           No          Yes              Yes   \n",
       "4                No          Yes          Yes               No   \n",
       "\n",
       "  contract_type_id  paperless_billing payment_type_id  monthly_charges  \\\n",
       "0                2                Yes               2             65.6   \n",
       "1                1                 No               2             59.9   \n",
       "2                1                Yes               1             73.9   \n",
       "3                1                Yes               1             98.0   \n",
       "4                1                Yes               2             83.9   \n",
       "\n",
       "   total_charges churn  \n",
       "0          593.3    No  \n",
       "1          542.4    No  \n",
       "2         280.85   Yes  \n",
       "3        1237.85   Yes  \n",
       "4          267.4   Yes  \n",
       "\n",
       "[5 rows x 21 columns]"
      ]
     },
     "execution_count": 2,
     "metadata": {},
     "output_type": "execute_result"
    }
   ],
   "source": [
    "# Observe the original data before cleaning\n",
    "telco_original = get_telco_data(cached=True)\n",
    "telco_original.head()"
   ]
  },
  {
   "cell_type": "code",
   "execution_count": 3,
   "metadata": {},
   "outputs": [
    {
     "name": "stdout",
     "output_type": "stream",
     "text": [
      "<class 'pandas.core.frame.DataFrame'>\n",
      "RangeIndex: 7043 entries, 0 to 7042\n",
      "Data columns (total 21 columns):\n",
      " #   Column                    Non-Null Count  Dtype  \n",
      "---  ------                    --------------  -----  \n",
      " 0   customer_id               7043 non-null   object \n",
      " 1   gender                    7043 non-null   object \n",
      " 2   senior_citizen            7043 non-null   int64  \n",
      " 3   partner                   7043 non-null   object \n",
      " 4   dependents                7043 non-null   object \n",
      " 5   tenure                    7043 non-null   int64  \n",
      " 6   phone_service             7043 non-null   object \n",
      " 7   multiple_lines            7043 non-null   object \n",
      " 8   internet_service_type_id  7043 non-null   int64  \n",
      " 9   online_security           7043 non-null   object \n",
      " 10  online_backup             7043 non-null   object \n",
      " 11  device_protection         7043 non-null   object \n",
      " 12  tech_support              7043 non-null   object \n",
      " 13  streaming_tv              7043 non-null   object \n",
      " 14  streaming_movies          7043 non-null   object \n",
      " 15  contract_type_id          7043 non-null   int64  \n",
      " 16  paperless_billing         7043 non-null   object \n",
      " 17  payment_type_id           7043 non-null   int64  \n",
      " 18  monthly_charges           7043 non-null   float64\n",
      " 19  total_charges             7043 non-null   object \n",
      " 20  churn                     7043 non-null   object \n",
      "dtypes: float64(1), int64(5), object(15)\n",
      "memory usage: 1.1+ MB\n"
     ]
    }
   ],
   "source": [
    "telco_original.info()"
   ]
  },
  {
   "cell_type": "markdown",
   "metadata": {},
   "source": [
    "# PREPARE"
   ]
  },
  {
   "cell_type": "markdown",
   "metadata": {},
   "source": [
    "The functions from `prepare.py` will need to accomplish the following:\n",
    "\n",
    "1. There are no nulls in the data set, but there are blank entries in the dataset. Customers with tenure = 0 have a blank entered for their total_charges. These customers haven't had a chance to pay a bill yet, and they also are not capable of churning. Their churn label, though technically present, is meaningless. They will be dropped from the dataframe.\n",
    "\n",
    "2. Most of these fields are object datatypes and/or contain data that will need to be separated out and/or encoded. These are described in the \"Fields to Adjust\" section below. \n",
    "\n",
    "3. Several new features will need to be created. They are described in the \"Features to Create\" section below. \n",
    "\n",
    "4. total_charges is stored as an object, but the values should be stored as float values. "
   ]
  },
  {
   "cell_type": "markdown",
   "metadata": {},
   "source": [
    "### Fields to Adjust\n",
    "There are a number of fields that will need to be encoded as boolean values as most of the fields in the original dataset are object data type. "
   ]
  },
  {
   "cell_type": "markdown",
   "metadata": {},
   "source": [
    "1. **customer_id** - although this field is essentially a duplicate index, one of the deliverables is a CSV file with customer_id, probability of churn, and prediction of churn. (1=churn, 0=not_churn). I will keep this field, but it will not be included as a feature in any of the models. "
   ]
  },
  {
   "cell_type": "code",
   "execution_count": 4,
   "metadata": {},
   "outputs": [
    {
     "data": {
      "text/plain": [
       "array(['0002-ORFBO', '0003-MKNFE', '0004-TLHLJ', ..., '9992-UJOEL',\n",
       "       '9993-LHIEB', '9995-HOTOH'], dtype=object)"
      ]
     },
     "execution_count": 4,
     "metadata": {},
     "output_type": "execute_result"
    }
   ],
   "source": [
    "telco_original.customer_id.unique()"
   ]
  },
  {
   "cell_type": "markdown",
   "metadata": {},
   "source": [
    "2. **gender** - this field needs to be encoded. \"Female\" will equal 1 and \"Male\" will equal 0. "
   ]
  },
  {
   "cell_type": "code",
   "execution_count": 5,
   "metadata": {},
   "outputs": [
    {
     "data": {
      "text/plain": [
       "array(['Female', 'Male'], dtype=object)"
      ]
     },
     "execution_count": 5,
     "metadata": {},
     "output_type": "execute_result"
    }
   ],
   "source": [
    "telco_original.gender.unique()"
   ]
  },
  {
   "cell_type": "markdown",
   "metadata": {},
   "source": [
    "3. **partner** - this field needs to be encoded. \"Yes\" will equal 1 and \"No\" will equal 0."
   ]
  },
  {
   "cell_type": "code",
   "execution_count": 6,
   "metadata": {},
   "outputs": [
    {
     "data": {
      "text/plain": [
       "array(['Yes', 'No'], dtype=object)"
      ]
     },
     "execution_count": 6,
     "metadata": {},
     "output_type": "execute_result"
    }
   ],
   "source": [
    "telco_original.partner.unique()"
   ]
  },
  {
   "cell_type": "markdown",
   "metadata": {},
   "source": [
    "4. **dependents** - this field needs to be encoded. \"Yes\" will equal 1 and \"No\" will equal 0."
   ]
  },
  {
   "cell_type": "code",
   "execution_count": 7,
   "metadata": {},
   "outputs": [
    {
     "data": {
      "text/plain": [
       "array(['Yes', 'No'], dtype=object)"
      ]
     },
     "execution_count": 7,
     "metadata": {},
     "output_type": "execute_result"
    }
   ],
   "source": [
    "telco_original.dependents.unique()"
   ]
  },
  {
   "cell_type": "markdown",
   "metadata": {},
   "source": [
    "5. **phone_service** - this field needs to be encoded. \"Yes\" will equal 1 and \"No\" will equal 0."
   ]
  },
  {
   "cell_type": "code",
   "execution_count": 8,
   "metadata": {},
   "outputs": [
    {
     "data": {
      "text/plain": [
       "array(['Yes', 'No'], dtype=object)"
      ]
     },
     "execution_count": 8,
     "metadata": {},
     "output_type": "execute_result"
    }
   ],
   "source": [
    "telco_original.phone_service.unique()"
   ]
  },
  {
   "cell_type": "markdown",
   "metadata": {},
   "source": [
    "6. **multiple_lines** - this field currently has Yes, No, and No Phone Service. There is a slight distinction between \"No\" and \"No Phone Service\", but these can be combined into a single encoded value for \"No\", as the phone_service field already captures if the customer has \"No Phone Service\". This field will be encoded into \"Yes\" = 1 and \"No/No Phone Service\" = 0."
   ]
  },
  {
   "cell_type": "code",
   "execution_count": 9,
   "metadata": {},
   "outputs": [
    {
     "data": {
      "text/plain": [
       "array(['No', 'Yes', 'No phone service'], dtype=object)"
      ]
     },
     "execution_count": 9,
     "metadata": {},
     "output_type": "execute_result"
    }
   ],
   "source": [
    "telco_original.multiple_lines.unique()"
   ]
  },
  {
   "cell_type": "markdown",
   "metadata": {},
   "source": [
    "7. **internet_service_type_id** - currently 1 = \"DSL\", 2 = \"Fiber Optic\", and 3 = \"None\". This will be encoded by new dummy variables for \"DSL\" and \"Fiber Optic\" with numeric boolean values. There is no need to encode for \"None\", as this will be captured when both \"DSL\" and \"Fiber Optic\" are 0."
   ]
  },
  {
   "cell_type": "code",
   "execution_count": 10,
   "metadata": {},
   "outputs": [
    {
     "data": {
      "text/plain": [
       "array([1, 2, 3])"
      ]
     },
     "execution_count": 10,
     "metadata": {},
     "output_type": "execute_result"
    }
   ],
   "source": [
    "telco_original.internet_service_type_id.unique()"
   ]
  },
  {
   "cell_type": "markdown",
   "metadata": {},
   "source": [
    "8.-13. **online_security**, **online_backup**, **device_protection**, **tech_support**, **streaming_tv**, **streaming_movies** - These will be encoded with boolean values. \"Yes\" = 1, \"No/No internet service\" = 0. Although there is a slight distinction between \"No\" and \"No internet service\", the latter will be captured when \"DSL\" and \"Fiber Optic\" are both 0. "
   ]
  },
  {
   "cell_type": "code",
   "execution_count": 11,
   "metadata": {},
   "outputs": [
    {
     "name": "stdout",
     "output_type": "stream",
     "text": [
      "['No' 'Yes' 'No internet service']\n",
      "['Yes' 'No' 'No internet service']\n",
      "['No' 'Yes' 'No internet service']\n",
      "['Yes' 'No' 'No internet service']\n",
      "['Yes' 'No' 'No internet service']\n",
      "['No' 'Yes' 'No internet service']\n"
     ]
    }
   ],
   "source": [
    "print(telco_original.online_security.unique())\n",
    "print(telco_original.online_backup.unique())\n",
    "print(telco_original.device_protection.unique())\n",
    "print(telco_original.tech_support.unique())\n",
    "print(telco_original.streaming_tv.unique())\n",
    "print(telco_original.streaming_movies.unique())"
   ]
  },
  {
   "cell_type": "markdown",
   "metadata": {},
   "source": [
    "14. **contract_type_id** - This currently codes for three options:\n",
    "    - Month-to-month : 1\n",
    "    - One year : 2\n",
    "    - Two year : 3\n",
    "\n",
    "Although contract type is roughly ordinal, these numbers are not proportional enough to keep in the same field. This will be split via dummy variables across multiple fields. One year and Two year will be directly encoded for, as month-to-month will be captured when both One year and Two year equal 0. "
   ]
  },
  {
   "cell_type": "code",
   "execution_count": 12,
   "metadata": {},
   "outputs": [
    {
     "data": {
      "text/plain": [
       "array([2, 1, 3])"
      ]
     },
     "execution_count": 12,
     "metadata": {},
     "output_type": "execute_result"
    }
   ],
   "source": [
    "telco_original.contract_type_id.unique()"
   ]
  },
  {
   "cell_type": "markdown",
   "metadata": {},
   "source": [
    "15. **paperless_billing** - this field needs to be encoded. \"Yes\" will equal 1 and \"No\" will equal 0."
   ]
  },
  {
   "cell_type": "code",
   "execution_count": 13,
   "metadata": {},
   "outputs": [
    {
     "data": {
      "text/plain": [
       "array(['Yes', 'No'], dtype=object)"
      ]
     },
     "execution_count": 13,
     "metadata": {},
     "output_type": "execute_result"
    }
   ],
   "source": [
    "telco_original.paperless_billing.unique()"
   ]
  },
  {
   "cell_type": "markdown",
   "metadata": {},
   "source": [
    "16. **payment_type_id** - This currently codes for four options:\n",
    "    - Electronic Check : 1\n",
    "    - Mailed Check : 2\n",
    "    - Bank Transfer (automatic) : 3\n",
    "    - Credit Card (automatic) : 4\n",
    "    \n",
    "This field will be be split up by dummy variables, each one encoded with boolean numeric values. "
   ]
  },
  {
   "cell_type": "code",
   "execution_count": 14,
   "metadata": {},
   "outputs": [
    {
     "data": {
      "text/plain": [
       "array([2, 1, 4, 3])"
      ]
     },
     "execution_count": 14,
     "metadata": {},
     "output_type": "execute_result"
    }
   ],
   "source": [
    "telco_original.payment_type_id.unique()"
   ]
  },
  {
   "cell_type": "markdown",
   "metadata": {},
   "source": [
    "17. **churn** - This will need to be encoded with boolean numeric values. "
   ]
  },
  {
   "cell_type": "code",
   "execution_count": 15,
   "metadata": {},
   "outputs": [
    {
     "data": {
      "text/plain": [
       "array(['No', 'Yes'], dtype=object)"
      ]
     },
     "execution_count": 15,
     "metadata": {},
     "output_type": "execute_result"
    }
   ],
   "source": [
    "telco_original.churn.unique()"
   ]
  },
  {
   "cell_type": "markdown",
   "metadata": {},
   "source": [
    "### Features to Create\n",
    "\n",
    "1. \"**yearly_tenure**\" that represents tenure in years. As monthly tenure is always rounded down, yearly tenure will similarly be rounded down. \n",
    "2. \"**number_phone_lines**\" representing the information from phone_service and multiple_lines where 0 represents no phone service, 1 represents single phone line, 2 represents multiple lines.\n",
    "3. \"**number_relationships**\" representing the information from dependents and partner where 0 represents no dependents or partner, 1 represents either a dependent or partner, and 2 represents both a dependent and partner.\n",
    "4. \"**number_streaming_services**\" representing the information from streaming_tv and streaming_movie where 0 represents having neither, 1 represents either having streaming_tv or streaming_movie, and 2 represents having both. \n",
    "5. \"**number_online_services**\" representing the information from online_security and online_backup where 0 represents having neither, 1 represents either having online_security or online_backup, and 2 represents having both. "
   ]
  },
  {
   "cell_type": "markdown",
   "metadata": {},
   "source": [
    "#### Applying our prepare.py functions to the original dataset"
   ]
  },
  {
   "cell_type": "code",
   "execution_count": 16,
   "metadata": {},
   "outputs": [],
   "source": [
    "train, test, validate = prep_telco_data(telco_original)"
   ]
  },
  {
   "cell_type": "code",
   "execution_count": 17,
   "metadata": {},
   "outputs": [
    {
     "name": "stdout",
     "output_type": "stream",
     "text": [
      "<class 'pandas.core.frame.DataFrame'>\n",
      "Int64Index: 4500 entries, 4216 to 3374\n",
      "Data columns (total 49 columns):\n",
      " #   Column                     Non-Null Count  Dtype  \n",
      "---  ------                     --------------  -----  \n",
      " 0   customer_id                4500 non-null   object \n",
      " 1   gender                     4500 non-null   object \n",
      " 2   senior_citizen             4500 non-null   int64  \n",
      " 3   partner                    4500 non-null   object \n",
      " 4   dependents                 4500 non-null   object \n",
      " 5   tenure                     4500 non-null   int64  \n",
      " 6   phone_service              4500 non-null   object \n",
      " 7   multiple_lines             4500 non-null   object \n",
      " 8   internet_service_type_id   4500 non-null   int64  \n",
      " 9   online_security            4500 non-null   object \n",
      " 10  online_backup              4500 non-null   object \n",
      " 11  device_protection          4500 non-null   object \n",
      " 12  tech_support               4500 non-null   object \n",
      " 13  streaming_tv               4500 non-null   object \n",
      " 14  streaming_movies           4500 non-null   object \n",
      " 15  contract_type_id           4500 non-null   int64  \n",
      " 16  paperless_billing          4500 non-null   object \n",
      " 17  payment_type_id            4500 non-null   int64  \n",
      " 18  monthly_charges            4500 non-null   float64\n",
      " 19  total_charges              4500 non-null   float64\n",
      " 20  churn                      4500 non-null   object \n",
      " 21  gender_encoded             4500 non-null   int64  \n",
      " 22  partner_encoded            4500 non-null   int64  \n",
      " 23  dependents_encoded         4500 non-null   int64  \n",
      " 24  phone_service_encoded      4500 non-null   int64  \n",
      " 25  multiple_lines_encoded     4500 non-null   int64  \n",
      " 26  online_security_encoded    4500 non-null   int64  \n",
      " 27  online_backup_encoded      4500 non-null   int64  \n",
      " 28  device_protection_encoded  4500 non-null   int64  \n",
      " 29  tech_support_encoded       4500 non-null   int64  \n",
      " 30  streaming_tv_encoded       4500 non-null   int64  \n",
      " 31  streaming_movies_encoded   4500 non-null   int64  \n",
      " 32  paperless_billing_encoded  4500 non-null   int64  \n",
      " 33  churn_encoded              4500 non-null   int64  \n",
      " 34  number_phone_lines         4500 non-null   int64  \n",
      " 35  number_relationships       4500 non-null   int64  \n",
      " 36  number_streaming_services  4500 non-null   int64  \n",
      " 37  number_online_services     4500 non-null   int64  \n",
      " 38  yearly_tenure              4500 non-null   int64  \n",
      " 39  dsl_encoded                4500 non-null   uint8  \n",
      " 40  fiber_optic_encoded        4500 non-null   uint8  \n",
      " 41  has_internet               4500 non-null   int64  \n",
      " 42  electronic_check_encoded   4500 non-null   uint8  \n",
      " 43  mailed_check_encoded       4500 non-null   uint8  \n",
      " 44  bank_transfer_encoded      4500 non-null   uint8  \n",
      " 45  credit_card_encoded        4500 non-null   uint8  \n",
      " 46  month_to_month_encoded     4500 non-null   uint8  \n",
      " 47  one_year_contract_encoded  4500 non-null   uint8  \n",
      " 48  two_year_contract_encoded  4500 non-null   uint8  \n",
      "dtypes: float64(2), int64(24), object(14), uint8(9)\n",
      "memory usage: 1.4+ MB\n"
     ]
    }
   ],
   "source": [
    "train.info()"
   ]
  },
  {
   "cell_type": "code",
   "execution_count": 18,
   "metadata": {},
   "outputs": [
    {
     "name": "stdout",
     "output_type": "stream",
     "text": [
      "(4500, 49) (1407, 49) (1125, 49)\n"
     ]
    }
   ],
   "source": [
    "print(train.shape, validate.shape, test.shape)"
   ]
  },
  {
   "cell_type": "markdown",
   "metadata": {},
   "source": [
    "# EXPLORE"
   ]
  },
  {
   "cell_type": "code",
   "execution_count": 19,
   "metadata": {},
   "outputs": [],
   "source": [
    "# Looking at churn rates across the entire train dataset"
   ]
  },
  {
   "cell_type": "code",
   "execution_count": 20,
   "metadata": {},
   "outputs": [
    {
     "data": {
      "text/plain": [
       "No     3304\n",
       "Yes    1196\n",
       "Name: churn, dtype: int64"
      ]
     },
     "execution_count": 20,
     "metadata": {},
     "output_type": "execute_result"
    }
   ],
   "source": [
    "train.churn.value_counts()"
   ]
  },
  {
   "cell_type": "code",
   "execution_count": 21,
   "metadata": {},
   "outputs": [
    {
     "data": {
      "text/plain": [
       "Text(0.5, 0, 'Churned')"
      ]
     },
     "execution_count": 21,
     "metadata": {},
     "output_type": "execute_result"
    },
    {
     "data": {
      "image/png": "[encoded data removed]",
      "text/plain": [
       "<Figure size 432x288 with 1 Axes>"
      ]
     },
     "metadata": {
      "needs_background": "light"
     },
     "output_type": "display_data"
    }
   ],
   "source": [
    "train.churn.value_counts().sort_index().plot.bar()\n",
    "churn_rate = train.churn_encoded.mean()\n",
    "plt.title(f\"Overall churn rate: {churn_rate:.2%}\")\n",
    "plt.xlabel('Churned')"
   ]
  },
  {
   "cell_type": "markdown",
   "metadata": {},
   "source": [
    "## Churn Rates by Feature"
   ]
  },
  {
   "cell_type": "markdown",
   "metadata": {},
   "source": [
    "Churn rates will be visualized for features in the dataset. Visualizations that show the highest difference in churn rate will be tested with the appropriate statistical analysis to confirm significance. \n",
    "\n",
    "Note: Combined interactions that would be revealed with complex pivot tables and crosstabs will not be evaluated at this time. If I had more time, I would also consider multidimensional interactions. "
   ]
  },
  {
   "cell_type": "code",
   "execution_count": 22,
   "metadata": {},
   "outputs": [
    {
     "data": {
      "image/png": "[encoded data removed]",
      "text/plain": [
       "<Figure size 1152x432 with 2 Axes>"
      ]
     },
     "metadata": {
      "needs_background": "light"
     },
     "output_type": "display_data"
    }
   ],
   "source": [
    "features = ['gender', 'senior_citizen']\n",
    "\n",
    "_, ax = plt.subplots(nrows=1, ncols=2, figsize=(16, 6), sharey=True)\n",
    "for i, feature in enumerate(features):\n",
    "    sns.barplot(feature, 'churn_encoded', data=train, ax=ax[i])\n",
    "    ax[i].set_xlabel('')\n",
    "    ax[i].set_ylabel('Churn Rate')\n",
    "    ax[i].set_title(feature)\n",
    "    ax[i].axhline(churn_rate, ls='--', color='grey')"
   ]
  },
  {
   "cell_type": "markdown",
   "metadata": {},
   "source": [
    "### Takeaways:\n",
    "  - **Gender** - It does not appear that gender is related to churn. Both genders have effectively equal churn rates.\n",
    "  - **Senior Citizens** - Senior citizens have a higher churn rate than non-seniors."
   ]
  },
  {
   "cell_type": "code",
   "execution_count": 23,
   "metadata": {},
   "outputs": [
    {
     "data": {
      "image/png": "[encoded data removed]",
      "text/plain": [
       "<Figure size 1152x432 with 3 Axes>"
      ]
     },
     "metadata": {
      "needs_background": "light"
     },
     "output_type": "display_data"
    }
   ],
   "source": [
    "features = ['partner', 'dependents', 'number_relationships']\n",
    "\n",
    "_, ax = plt.subplots(nrows=1, ncols=3, figsize=(16, 6), sharey=True)\n",
    "for i, feature in enumerate(features):\n",
    "    sns.barplot(feature, 'churn_encoded', data=train, ax=ax[i])\n",
    "    ax[i].set_xlabel('')\n",
    "    ax[i].set_ylabel('Churn Rate')\n",
    "    ax[i].set_title(feature)\n",
    "    ax[i].axhline(churn_rate, ls='--', color='grey')"
   ]
  },
  {
   "cell_type": "markdown",
   "metadata": {},
   "source": [
    "### Takeaways\n",
    "- **Partners** - Customers with partners have a lower churn rate than customers without partners. \n",
    "- **Dependents** - Customers with dependents have lower rates of churn.\n",
    "- **Number relationships** - Customers with both partners and dependents have lower rates of churn than customers with only partners or dependents. "
   ]
  },
  {
   "cell_type": "code",
   "execution_count": 24,
   "metadata": {},
   "outputs": [
    {
     "data": {
      "image/png": "[encoded data removed]",
      "text/plain": [
       "<Figure size 1152x432 with 3 Axes>"
      ]
     },
     "metadata": {
      "needs_background": "light"
     },
     "output_type": "display_data"
    }
   ],
   "source": [
    "features = ['phone_service', 'multiple_lines', 'number_phone_lines']\n",
    "\n",
    "_, ax = plt.subplots(nrows=1, ncols=3, figsize=(16, 6), sharey=True)\n",
    "for i, feature in enumerate(features):\n",
    "    sns.barplot(feature, 'churn_encoded', data=train, ax=ax[i])\n",
    "    ax[i].set_xlabel('')\n",
    "    ax[i].set_ylabel('Churn Rate')\n",
    "    ax[i].set_title(feature)\n",
    "    ax[i].axhline(churn_rate, ls='--', color='grey')"
   ]
  },
  {
   "cell_type": "markdown",
   "metadata": {},
   "source": [
    "### Takeaways:\n",
    "- **Phone Service** - Having or not having phone service does not appear to substantially affect churn.\n",
    "- **Multiple Lines** - No apparent difference based on having multiple lines.\n",
    "- **Number Phone Lines** - No apparent difference as number of phone lines increase."
   ]
  },
  {
   "cell_type": "code",
   "execution_count": 25,
   "metadata": {},
   "outputs": [
    {
     "data": {
      "image/png": "[encoded data removed]",
      "text/plain": [
       "<Figure size 1152x432 with 4 Axes>"
      ]
     },
     "metadata": {
      "needs_background": "light"
     },
     "output_type": "display_data"
    }
   ],
   "source": [
    "features = ['has_internet', 'dsl_encoded', 'fiber_optic_encoded', 'internet_service_type_id']\n",
    "\n",
    "_, ax = plt.subplots(nrows=1, ncols=4, figsize=(16, 6), sharey=True)\n",
    "for i, feature in enumerate(features):\n",
    "    sns.barplot(feature, 'churn_encoded', data=train, ax=ax[i])\n",
    "    ax[i].set_xlabel('')\n",
    "    ax[i].set_ylabel('Churn Rate')\n",
    "    ax[i].set_title(feature)\n",
    "    ax[i].axhline(churn_rate, ls='--', color='grey')"
   ]
  },
  {
   "cell_type": "markdown",
   "metadata": {},
   "source": [
    "### Takeaways\n",
    "- **Has Internet** - Having internet service appears to be a huge driver of churn.\n",
    "- **DSL** - Customers with DSL have lower rates of churn than customers who do not have DSL, but this variable combines Fiber Optic and No Internet into a single result (0). As we see further to the right, it is important to distinguish Fiber Optic customers from No internet customers. \n",
    "- **Fiber Optic** - Fiber optic customers have substantially higher rates of churn. \n",
    "- **internet Service Type** - Although Fiber Optic customers appear to be driving churn, we shouldn't expect customers to move to an older technology (DSL) or abandon internet. Nevertheless, there might be something about the fiber optic experience that is driving customers away. "
   ]
  },
  {
   "cell_type": "code",
   "execution_count": 26,
   "metadata": {},
   "outputs": [
    {
     "data": {
      "image/png": "[encoded data removed]",
      "text/plain": [
       "<Figure size 1152x432 with 3 Axes>"
      ]
     },
     "metadata": {
      "needs_background": "light"
     },
     "output_type": "display_data"
    }
   ],
   "source": [
    "features = ['online_security', 'online_backup', 'number_online_services']\n",
    "\n",
    "_, ax = plt.subplots(nrows=1, ncols=3, figsize=(16, 6), sharey=True)\n",
    "for i, feature in enumerate(features):\n",
    "    sns.barplot(feature, 'churn_encoded', data=train, ax=ax[i])\n",
    "    ax[i].set_xlabel('')\n",
    "    ax[i].set_ylabel('Churn Rate')\n",
    "    ax[i].set_title(feature)\n",
    "    ax[i].axhline(churn_rate, ls='--', color='grey')"
   ]
  },
  {
   "cell_type": "markdown",
   "metadata": {},
   "source": [
    "### Takeaways\n",
    "- **Online Security** - Customers with online security appear to churn substantially less than customers without security.\n",
    "- **Online Backup** - Customers with online backup appear to churn less than those without.\n",
    "- **Number Online Services** - There appears to be a synergistic effect between Online Security and Online Backup. Customers with both appear to churn less than customers with just one of the two services. "
   ]
  },
  {
   "cell_type": "code",
   "execution_count": 27,
   "metadata": {},
   "outputs": [
    {
     "data": {
      "image/png": "[encoded data removed]",
      "text/plain": [
       "<Figure size 1152x432 with 3 Axes>"
      ]
     },
     "metadata": {
      "needs_background": "light"
     },
     "output_type": "display_data"
    }
   ],
   "source": [
    "features = ['device_protection', 'tech_support', 'paperless_billing']\n",
    "\n",
    "_, ax = plt.subplots(nrows=1, ncols=3, figsize=(16, 6), sharey=True)\n",
    "for i, feature in enumerate(features):\n",
    "    sns.barplot(feature, 'churn_encoded', data=train, ax=ax[i])\n",
    "    ax[i].set_xlabel('')\n",
    "    ax[i].set_ylabel('Churn Rate')\n",
    "    ax[i].set_title(feature)\n",
    "    ax[i].axhline(churn_rate, ls='--', color='grey')"
   ]
  },
  {
   "cell_type": "markdown",
   "metadata": {},
   "source": [
    "### Takeaways\n",
    "- **device protection** - Customers with device protection appear to churn less than customers without protection.\n",
    "- **tech support** - Customers with tech_support appear to churn less than customers without tech support.\n",
    "- **paperless billing** - Customers with paperless billing appear to churn at a much higher rate. Given industry trends, we shouldn't expect customers to switch away from paperless billing. There might be something about the paperless billing experience that customers are not appreciating. Should this prove to be a significant difference, we can certainly still include it in our churn prediction model. "
   ]
  },
  {
   "cell_type": "code",
   "execution_count": 28,
   "metadata": {},
   "outputs": [
    {
     "data": {
      "image/png": "[encoded data removed]",
      "text/plain": [
       "<Figure size 1152x432 with 3 Axes>"
      ]
     },
     "metadata": {
      "needs_background": "light"
     },
     "output_type": "display_data"
    }
   ],
   "source": [
    "features = ['streaming_tv', 'streaming_movies', 'number_streaming_services']\n",
    "\n",
    "_, ax = plt.subplots(nrows=1, ncols=3, figsize=(16, 6), sharey=True)\n",
    "for i, feature in enumerate(features):\n",
    "    sns.barplot(feature, 'churn_encoded', data=train, ax=ax[i])\n",
    "    ax[i].set_xlabel('')\n",
    "    ax[i].set_ylabel('Churn Rate')\n",
    "    ax[i].set_title(feature)\n",
    "    ax[i].axhline(churn_rate, ls='--', color='grey')"
   ]
  },
  {
   "cell_type": "markdown",
   "metadata": {},
   "source": [
    "### Takeaways\n",
    "- **Streaming TV** - There might be a significant difference between customers with streaming_tv and those without, but the difference, if present, appears to be small.\n",
    "- **Streaming Movies** - There might be a significant difference between customers who can stream movies and those who do not, but the difference appears to be small.\n",
    "- **Number of Streaming Services** - The pattern is difficult to observe if there is one. Likely no meaningful difference in churn rate between these customer groups. "
   ]
  },
  {
   "cell_type": "code",
   "execution_count": 29,
   "metadata": {},
   "outputs": [
    {
     "data": {
      "image/png": "[encoded data removed]",
      "text/plain": [
       "<Figure size 1152x432 with 2 Axes>"
      ]
     },
     "metadata": {
      "needs_background": "light"
     },
     "output_type": "display_data"
    }
   ],
   "source": [
    "features = ['contract_type_id', 'payment_type_id']\n",
    "\n",
    "_, ax = plt.subplots(nrows=1, ncols=2, figsize=(16, 6), sharey=True)\n",
    "for i, feature in enumerate(features):\n",
    "    sns.barplot(feature, 'churn_encoded', data=train, ax=ax[i])\n",
    "    ax[i].set_xlabel('')\n",
    "    ax[i].set_ylabel('Churn Rate')\n",
    "    ax[i].set_title(feature)\n",
    "    ax[i].axhline(churn_rate, ls='--', color='grey')"
   ]
  },
  {
   "cell_type": "code",
   "execution_count": 30,
   "metadata": {},
   "outputs": [
    {
     "data": {
      "text/plain": [
       "1    2491\n",
       "3    1091\n",
       "2     918\n",
       "Name: contract_type_id, dtype: int64"
      ]
     },
     "execution_count": 30,
     "metadata": {},
     "output_type": "execute_result"
    }
   ],
   "source": [
    "train.contract_type_id.value_counts()"
   ]
  },
  {
   "cell_type": "markdown",
   "metadata": {},
   "source": [
    "### Takeaways\n",
    "- **Contract Type** - Customers with month to month contracts are dominating the churn rate and they make up the majority as well. \n",
    "- **Payment Type** - Customers who pay by electronic check have substantially higher churn rates. "
   ]
  },
  {
   "cell_type": "code",
   "execution_count": 31,
   "metadata": {},
   "outputs": [
    {
     "data": {
      "text/plain": [
       "Text(0, 0.5, 'Churn Rate')"
      ]
     },
     "execution_count": 31,
     "metadata": {},
     "output_type": "execute_result"
    },
    {
     "data": {
      "image/png": "[encoded data removed]",
      "text/plain": [
       "<Figure size 936x720 with 1 Axes>"
      ]
     },
     "metadata": {
      "needs_background": "light"
     },
     "output_type": "display_data"
    }
   ],
   "source": [
    "plt.figure('figure', figsize=(13, 10))\n",
    "plt.title(\"Tenure in months vs Rate of Churn\", fontsize=17)\n",
    "ax = sns.lineplot(x=\"tenure\", y=\"churn_encoded\", data=train)\n",
    "plt.ylabel('Churn Rate')"
   ]
  },
  {
   "cell_type": "code",
   "execution_count": 32,
   "metadata": {},
   "outputs": [
    {
     "data": {
      "text/plain": [
       "Text(0, 0.5, 'Churn Rate')"
      ]
     },
     "execution_count": 32,
     "metadata": {},
     "output_type": "execute_result"
    },
    {
     "data": {
      "image/png": "[encoded data removed]",
      "text/plain": [
       "<Figure size 936x720 with 1 Axes>"
      ]
     },
     "metadata": {
      "needs_background": "light"
     },
     "output_type": "display_data"
    }
   ],
   "source": [
    "plt.figure('figure', figsize=(13, 10))\n",
    "plt.title(\"Tenure in years vs Rate of Churn\", fontsize=17)\n",
    "ax = sns.lineplot(x=\"yearly_tenure\", y=\"churn_encoded\", data=train, color=\"green\")\n",
    "plt.ylabel('Churn Rate')"
   ]
  },
  {
   "cell_type": "markdown",
   "metadata": {},
   "source": [
    "### Takeaways - Tenure and Churn\n",
    "Generally churn rate decreases as tenure increases. We see some spikes at around 24, 36, and 48 months. "
   ]
  },
  {
   "cell_type": "code",
   "execution_count": 33,
   "metadata": {},
   "outputs": [
    {
     "data": {
      "text/plain": [
       "churn\n",
       "No     61.131613\n",
       "Yes    74.652048\n",
       "Name: monthly_charges, dtype: float64"
      ]
     },
     "execution_count": 33,
     "metadata": {},
     "output_type": "execute_result"
    }
   ],
   "source": [
    "train.groupby('churn').monthly_charges.mean()"
   ]
  },
  {
   "cell_type": "code",
   "execution_count": 34,
   "metadata": {},
   "outputs": [
    {
     "data": {
      "text/plain": [
       "churn\n",
       "No     2553.946519\n",
       "Yes    1558.279055\n",
       "Name: total_charges, dtype: float64"
      ]
     },
     "execution_count": 34,
     "metadata": {},
     "output_type": "execute_result"
    }
   ],
   "source": [
    "train.groupby('churn').total_charges.mean()"
   ]
  },
  {
   "cell_type": "markdown",
   "metadata": {},
   "source": [
    "### Takeaways - Pricing and Churn\n",
    "Customers who are churning are paying higher prices.\n",
    "Customers who are churning provide lower overall revenue than customers who do not, but it is unlikely that these customers are leaving because of their total charges amount. Their total charges are likely lower because they don't have as many months of tenure, which is supported by the visualizations for tenure and churn rate."
   ]
  },
  {
   "cell_type": "markdown",
   "metadata": {},
   "source": [
    "## Statistical Analysis of Features"
   ]
  },
  {
   "cell_type": "markdown",
   "metadata": {},
   "source": [
    "Features of Interest:\n",
    "- senior_citizen\n",
    "- number_relationships\n",
    "- number_online_services\n",
    "- dsl_encoded\n",
    "- fiber_encoded\n",
    "- has_internet\n",
    "- device_protection_encoded\n",
    "- tech_support_encoded\n",
    "- paperless_billing_encoded\n",
    "- month_to_month_encoded\n",
    "- electronic_check_encoded\n",
    "- tenure\n",
    "- yearly_tenure\n",
    "- monthly_charges\n",
    "- total_charges"
   ]
  },
  {
   "cell_type": "code",
   "execution_count": 35,
   "metadata": {},
   "outputs": [],
   "source": [
    "alpha = 0.01"
   ]
  },
  {
   "cell_type": "markdown",
   "metadata": {},
   "source": [
    "### Senior Cititzens\n",
    "Initial Hypotheses \n",
    "- (H_0): Rate of churn is not dependent on being a senior citizen.\n",
    "- (H_a): Rate of churn is dependent on being a senior citizen."
   ]
  },
  {
   "cell_type": "code",
   "execution_count": 36,
   "metadata": {},
   "outputs": [
    {
     "data": {
      "text/html": [
       "<div>\n",
       "<style scoped>\n",
       "    .dataframe tbody tr th:only-of-type {\n",
       "        vertical-align: middle;\n",
       "    }\n",
       "\n",
       "    .dataframe tbody tr th {\n",
       "        vertical-align: top;\n",
       "    }\n",
       "\n",
       "    .dataframe thead th {\n",
       "        text-align: right;\n",
       "    }\n",
       "</style>\n",
       "<table border=\"1\" class=\"dataframe\">\n",
       "  <thead>\n",
       "    <tr style=\"text-align: right;\">\n",
       "      <th>churn</th>\n",
       "      <th>No</th>\n",
       "      <th>Yes</th>\n",
       "    </tr>\n",
       "    <tr>\n",
       "      <th>senior_citizen</th>\n",
       "      <th></th>\n",
       "      <th></th>\n",
       "    </tr>\n",
       "  </thead>\n",
       "  <tbody>\n",
       "    <tr>\n",
       "      <th>0</th>\n",
       "      <td>2893</td>\n",
       "      <td>884</td>\n",
       "    </tr>\n",
       "    <tr>\n",
       "      <th>1</th>\n",
       "      <td>411</td>\n",
       "      <td>312</td>\n",
       "    </tr>\n",
       "  </tbody>\n",
       "</table>\n",
       "</div>"
      ],
      "text/plain": [
       "churn             No  Yes\n",
       "senior_citizen           \n",
       "0               2893  884\n",
       "1                411  312"
      ]
     },
     "execution_count": 36,
     "metadata": {},
     "output_type": "execute_result"
    }
   ],
   "source": [
    "senior_citizen_ctab = pd.crosstab(train.senior_citizen, train.churn)\n",
    "senior_citizen_ctab"
   ]
  },
  {
   "cell_type": "code",
   "execution_count": 37,
   "metadata": {},
   "outputs": [
    {
     "name": "stdout",
     "output_type": "stream",
     "text": [
      "[[2773.15733333 1003.84266667]\n",
      " [ 530.84266667  192.15733333]]\n",
      "p-val: 5.509370952988315e-28\n"
     ]
    }
   ],
   "source": [
    "chi2, p_senior, degf, expected_senior = stats.chi2_contingency(senior_citizen_ctab)\n",
    "print(expected_senior)\n",
    "print(f\"p-val: {p_senior}\")"
   ]
  },
  {
   "cell_type": "code",
   "execution_count": 38,
   "metadata": {},
   "outputs": [
    {
     "name": "stdout",
     "output_type": "stream",
     "text": [
      "We reject the null hypothesis.\n"
     ]
    }
   ],
   "source": [
    "if p_senior < alpha:\n",
    "    print(\"We reject the null hypothesis.\")\n",
    "else:\n",
    "    print(\"We fail to reject the null hypothesis.\")"
   ]
  },
  {
   "cell_type": "markdown",
   "metadata": {},
   "source": [
    "### Number of Relationships\n",
    "Initial Hypotheses \n",
    "- (H_0): Rate of churn is not dependent on number of relationships.\n",
    "- (H_a): Rate of churn is dependent on number of relationships."
   ]
  },
  {
   "cell_type": "code",
   "execution_count": 39,
   "metadata": {},
   "outputs": [
    {
     "data": {
      "text/html": [
       "<div>\n",
       "<style scoped>\n",
       "    .dataframe tbody tr th:only-of-type {\n",
       "        vertical-align: middle;\n",
       "    }\n",
       "\n",
       "    .dataframe tbody tr th {\n",
       "        vertical-align: top;\n",
       "    }\n",
       "\n",
       "    .dataframe thead th {\n",
       "        text-align: right;\n",
       "    }\n",
       "</style>\n",
       "<table border=\"1\" class=\"dataframe\">\n",
       "  <thead>\n",
       "    <tr style=\"text-align: right;\">\n",
       "      <th>churn</th>\n",
       "      <th>No</th>\n",
       "      <th>Yes</th>\n",
       "    </tr>\n",
       "    <tr>\n",
       "      <th>number_relationships</th>\n",
       "      <th></th>\n",
       "      <th></th>\n",
       "    </tr>\n",
       "  </thead>\n",
       "  <tbody>\n",
       "    <tr>\n",
       "      <th>0</th>\n",
       "      <td>1369</td>\n",
       "      <td>724</td>\n",
       "    </tr>\n",
       "    <tr>\n",
       "      <th>1</th>\n",
       "      <td>974</td>\n",
       "      <td>317</td>\n",
       "    </tr>\n",
       "    <tr>\n",
       "      <th>2</th>\n",
       "      <td>961</td>\n",
       "      <td>155</td>\n",
       "    </tr>\n",
       "  </tbody>\n",
       "</table>\n",
       "</div>"
      ],
      "text/plain": [
       "churn                   No  Yes\n",
       "number_relationships           \n",
       "0                     1369  724\n",
       "1                      974  317\n",
       "2                      961  155"
      ]
     },
     "execution_count": 39,
     "metadata": {},
     "output_type": "execute_result"
    }
   ],
   "source": [
    "relationships_ctab = pd.crosstab(train.number_relationships, train.churn)\n",
    "relationships_ctab"
   ]
  },
  {
   "cell_type": "code",
   "execution_count": 40,
   "metadata": {},
   "outputs": [
    {
     "name": "stdout",
     "output_type": "stream",
     "text": [
      "[[1536.72711111  556.27288889]\n",
      " [ 947.88088889  343.11911111]\n",
      " [ 819.392       296.608     ]]\n",
      "p-val: 2.8842063215379543e-36\n"
     ]
    }
   ],
   "source": [
    "chi2, p_relationships, degf, expected_relationships = stats.chi2_contingency(relationships_ctab)\n",
    "print(expected_relationships)\n",
    "print(f\"p-val: {p_relationships}\")"
   ]
  },
  {
   "cell_type": "code",
   "execution_count": 41,
   "metadata": {},
   "outputs": [
    {
     "name": "stdout",
     "output_type": "stream",
     "text": [
      "We reject the null hypothesis.\n"
     ]
    }
   ],
   "source": [
    "if p_relationships < alpha:\n",
    "    print(\"We reject the null hypothesis.\")\n",
    "else:\n",
    "    print(\"We fail to reject the null hypothesis.\")"
   ]
  },
  {
   "cell_type": "markdown",
   "metadata": {},
   "source": [
    "### Number of Online Services\n",
    "Initial Hypotheses \n",
    "- (H_0): Rate of churn is not dependent on number of online services.\n",
    "- (H_a): Rate of churn is dependent on number of online services."
   ]
  },
  {
   "cell_type": "code",
   "execution_count": 42,
   "metadata": {},
   "outputs": [
    {
     "data": {
      "text/html": [
       "<div>\n",
       "<style scoped>\n",
       "    .dataframe tbody tr th:only-of-type {\n",
       "        vertical-align: middle;\n",
       "    }\n",
       "\n",
       "    .dataframe tbody tr th {\n",
       "        vertical-align: top;\n",
       "    }\n",
       "\n",
       "    .dataframe thead th {\n",
       "        text-align: right;\n",
       "    }\n",
       "</style>\n",
       "<table border=\"1\" class=\"dataframe\">\n",
       "  <thead>\n",
       "    <tr style=\"text-align: right;\">\n",
       "      <th>churn</th>\n",
       "      <th>No</th>\n",
       "      <th>Yes</th>\n",
       "    </tr>\n",
       "    <tr>\n",
       "      <th>number_online_services</th>\n",
       "      <th></th>\n",
       "      <th></th>\n",
       "    </tr>\n",
       "  </thead>\n",
       "  <tbody>\n",
       "    <tr>\n",
       "      <th>0</th>\n",
       "      <td>1620</td>\n",
       "      <td>749</td>\n",
       "    </tr>\n",
       "    <tr>\n",
       "      <th>1</th>\n",
       "      <td>1038</td>\n",
       "      <td>365</td>\n",
       "    </tr>\n",
       "    <tr>\n",
       "      <th>2</th>\n",
       "      <td>646</td>\n",
       "      <td>82</td>\n",
       "    </tr>\n",
       "  </tbody>\n",
       "</table>\n",
       "</div>"
      ],
      "text/plain": [
       "churn                     No  Yes\n",
       "number_online_services           \n",
       "0                       1620  749\n",
       "1                       1038  365\n",
       "2                        646   82"
      ]
     },
     "execution_count": 42,
     "metadata": {},
     "output_type": "execute_result"
    }
   ],
   "source": [
    "online_services_ctab = pd.crosstab(train.number_online_services, train.churn)\n",
    "online_services_ctab"
   ]
  },
  {
   "cell_type": "code",
   "execution_count": 43,
   "metadata": {},
   "outputs": [
    {
     "name": "stdout",
     "output_type": "stream",
     "text": [
      "[[1739.37244444  629.62755556]\n",
      " [1030.11377778  372.88622222]\n",
      " [ 534.51377778  193.48622222]]\n",
      "p-val: 1.8143089060271363e-26\n"
     ]
    }
   ],
   "source": [
    "chi2, p_online_services, degf, expected_online_services = stats.chi2_contingency(online_services_ctab)\n",
    "print(expected_online_services)\n",
    "print(f\"p-val: {p_online_services}\")"
   ]
  },
  {
   "cell_type": "code",
   "execution_count": 44,
   "metadata": {},
   "outputs": [
    {
     "name": "stdout",
     "output_type": "stream",
     "text": [
      "We reject the null hypothesis.\n"
     ]
    }
   ],
   "source": [
    "if p_online_services < alpha:\n",
    "    print(\"We reject the null hypothesis.\")\n",
    "else:\n",
    "    print(\"We fail to reject the null hypothesis.\")"
   ]
  },
  {
   "cell_type": "markdown",
   "metadata": {},
   "source": [
    "### DSL\n",
    "Initial Hypotheses \n",
    "- (H_0): Rate of churn is not dependent on DSL status.\n",
    "- (H_a): Rate of churn is dependent on DSL status."
   ]
  },
  {
   "cell_type": "code",
   "execution_count": 45,
   "metadata": {},
   "outputs": [
    {
     "data": {
      "text/html": [
       "<div>\n",
       "<style scoped>\n",
       "    .dataframe tbody tr th:only-of-type {\n",
       "        vertical-align: middle;\n",
       "    }\n",
       "\n",
       "    .dataframe tbody tr th {\n",
       "        vertical-align: top;\n",
       "    }\n",
       "\n",
       "    .dataframe thead th {\n",
       "        text-align: right;\n",
       "    }\n",
       "</style>\n",
       "<table border=\"1\" class=\"dataframe\">\n",
       "  <thead>\n",
       "    <tr style=\"text-align: right;\">\n",
       "      <th>churn</th>\n",
       "      <th>No</th>\n",
       "      <th>Yes</th>\n",
       "    </tr>\n",
       "    <tr>\n",
       "      <th>dsl_encoded</th>\n",
       "      <th></th>\n",
       "      <th></th>\n",
       "    </tr>\n",
       "  </thead>\n",
       "  <tbody>\n",
       "    <tr>\n",
       "      <th>0</th>\n",
       "      <td>2050</td>\n",
       "      <td>910</td>\n",
       "    </tr>\n",
       "    <tr>\n",
       "      <th>1</th>\n",
       "      <td>1254</td>\n",
       "      <td>286</td>\n",
       "    </tr>\n",
       "  </tbody>\n",
       "</table>\n",
       "</div>"
      ],
      "text/plain": [
       "churn          No  Yes\n",
       "dsl_encoded           \n",
       "0            2050  910\n",
       "1            1254  286"
      ]
     },
     "execution_count": 45,
     "metadata": {},
     "output_type": "execute_result"
    }
   ],
   "source": [
    "dsl_ctab = pd.crosstab(train.dsl_encoded, train.churn)\n",
    "dsl_ctab"
   ]
  },
  {
   "cell_type": "code",
   "execution_count": 46,
   "metadata": {},
   "outputs": [
    {
     "name": "stdout",
     "output_type": "stream",
     "text": [
      "[[2173.29777778  786.70222222]\n",
      " [1130.70222222  409.29777778]]\n",
      "p-val: 2.456346497271359e-18\n"
     ]
    }
   ],
   "source": [
    "chi2, p_dsl, degf, expected_dsl = stats.chi2_contingency(dsl_ctab)\n",
    "print(expected_dsl)\n",
    "print(f\"p-val: {p_dsl}\")"
   ]
  },
  {
   "cell_type": "code",
   "execution_count": 47,
   "metadata": {},
   "outputs": [
    {
     "name": "stdout",
     "output_type": "stream",
     "text": [
      "We reject the null hypothesis.\n"
     ]
    }
   ],
   "source": [
    "if p_dsl < alpha:\n",
    "    print(\"We reject the null hypothesis.\")\n",
    "else:\n",
    "    print(\"We fail to reject the null hypothesis.\")"
   ]
  },
  {
   "cell_type": "markdown",
   "metadata": {},
   "source": [
    "### Fiber Optic\n",
    "Initial Hypotheses \n",
    "- (H_0): Rate of churn is not dependent on Fiber Optic status.\n",
    "- (H_a): Rate of churn is dependent on Fiber Optic status."
   ]
  },
  {
   "cell_type": "code",
   "execution_count": 48,
   "metadata": {},
   "outputs": [
    {
     "data": {
      "text/html": [
       "<div>\n",
       "<style scoped>\n",
       "    .dataframe tbody tr th:only-of-type {\n",
       "        vertical-align: middle;\n",
       "    }\n",
       "\n",
       "    .dataframe tbody tr th {\n",
       "        vertical-align: top;\n",
       "    }\n",
       "\n",
       "    .dataframe thead th {\n",
       "        text-align: right;\n",
       "    }\n",
       "</style>\n",
       "<table border=\"1\" class=\"dataframe\">\n",
       "  <thead>\n",
       "    <tr style=\"text-align: right;\">\n",
       "      <th>churn</th>\n",
       "      <th>No</th>\n",
       "      <th>Yes</th>\n",
       "    </tr>\n",
       "    <tr>\n",
       "      <th>fiber_optic_encoded</th>\n",
       "      <th></th>\n",
       "      <th></th>\n",
       "    </tr>\n",
       "  </thead>\n",
       "  <tbody>\n",
       "    <tr>\n",
       "      <th>0</th>\n",
       "      <td>2169</td>\n",
       "      <td>359</td>\n",
       "    </tr>\n",
       "    <tr>\n",
       "      <th>1</th>\n",
       "      <td>1135</td>\n",
       "      <td>837</td>\n",
       "    </tr>\n",
       "  </tbody>\n",
       "</table>\n",
       "</div>"
      ],
      "text/plain": [
       "churn                  No  Yes\n",
       "fiber_optic_encoded           \n",
       "0                    2169  359\n",
       "1                    1135  837"
      ]
     },
     "execution_count": 48,
     "metadata": {},
     "output_type": "execute_result"
    }
   ],
   "source": [
    "fiber_optic_ctab = pd.crosstab(train.fiber_optic_encoded, train.churn)\n",
    "fiber_optic_ctab"
   ]
  },
  {
   "cell_type": "code",
   "execution_count": 49,
   "metadata": {},
   "outputs": [
    {
     "name": "stdout",
     "output_type": "stream",
     "text": [
      "[[1856.11377778  671.88622222]\n",
      " [1447.88622222  524.11377778]]\n",
      "p-val: 3.5679038758817116e-100\n"
     ]
    }
   ],
   "source": [
    "chi2, p_fiber_optic, degf, expected_fiber_optic = stats.chi2_contingency(fiber_optic_ctab)\n",
    "print(expected_fiber_optic)\n",
    "print(f\"p-val: {p_fiber_optic}\")"
   ]
  },
  {
   "cell_type": "code",
   "execution_count": 50,
   "metadata": {},
   "outputs": [
    {
     "name": "stdout",
     "output_type": "stream",
     "text": [
      "We reject the null hypothesis.\n"
     ]
    }
   ],
   "source": [
    "if p_fiber_optic < alpha:\n",
    "    print(\"We reject the null hypothesis.\")\n",
    "else:\n",
    "    print(\"We fail to reject the null hypothesis.\")"
   ]
  },
  {
   "cell_type": "markdown",
   "metadata": {},
   "source": [
    "### Has Internet\n",
    "Initial Hypotheses \n",
    "- (H_0): Rate of churn is not dependent on having an internet product.\n",
    "- (H_a): Rate of churn is dependent on having an internet product."
   ]
  },
  {
   "cell_type": "code",
   "execution_count": 51,
   "metadata": {},
   "outputs": [
    {
     "data": {
      "text/html": [
       "<div>\n",
       "<style scoped>\n",
       "    .dataframe tbody tr th:only-of-type {\n",
       "        vertical-align: middle;\n",
       "    }\n",
       "\n",
       "    .dataframe tbody tr th {\n",
       "        vertical-align: top;\n",
       "    }\n",
       "\n",
       "    .dataframe thead th {\n",
       "        text-align: right;\n",
       "    }\n",
       "</style>\n",
       "<table border=\"1\" class=\"dataframe\">\n",
       "  <thead>\n",
       "    <tr style=\"text-align: right;\">\n",
       "      <th>churn</th>\n",
       "      <th>No</th>\n",
       "      <th>Yes</th>\n",
       "    </tr>\n",
       "    <tr>\n",
       "      <th>has_internet</th>\n",
       "      <th></th>\n",
       "      <th></th>\n",
       "    </tr>\n",
       "  </thead>\n",
       "  <tbody>\n",
       "    <tr>\n",
       "      <th>0</th>\n",
       "      <td>915</td>\n",
       "      <td>73</td>\n",
       "    </tr>\n",
       "    <tr>\n",
       "      <th>1</th>\n",
       "      <td>2389</td>\n",
       "      <td>1123</td>\n",
       "    </tr>\n",
       "  </tbody>\n",
       "</table>\n",
       "</div>"
      ],
      "text/plain": [
       "churn           No   Yes\n",
       "has_internet            \n",
       "0              915    73\n",
       "1             2389  1123"
      ]
     },
     "execution_count": 51,
     "metadata": {},
     "output_type": "execute_result"
    }
   ],
   "source": [
    "has_internet_ctab = pd.crosstab(train.has_internet, train.churn)\n",
    "has_internet_ctab"
   ]
  },
  {
   "cell_type": "code",
   "execution_count": 52,
   "metadata": {},
   "outputs": [
    {
     "name": "stdout",
     "output_type": "stream",
     "text": [
      "[[ 725.41155556  262.58844444]\n",
      " [2578.58844444  933.41155556]]\n",
      "p-val: 1.29849617724919e-53\n"
     ]
    }
   ],
   "source": [
    "chi2, p_has_internet, degf, expected_has_internet = stats.chi2_contingency(has_internet_ctab)\n",
    "print(expected_has_internet)\n",
    "print(f\"p-val: {p_has_internet}\")"
   ]
  },
  {
   "cell_type": "code",
   "execution_count": 53,
   "metadata": {},
   "outputs": [
    {
     "name": "stdout",
     "output_type": "stream",
     "text": [
      "We reject the null hypothesis.\n"
     ]
    }
   ],
   "source": [
    "if p_has_internet < alpha:\n",
    "    print(\"We reject the null hypothesis.\")\n",
    "else:\n",
    "    print(\"We fail to reject the null hypothesis.\")"
   ]
  },
  {
   "cell_type": "markdown",
   "metadata": {},
   "source": [
    "### Device Protection\n",
    "Initial Hypotheses \n",
    "- (H_0): Rate of churn is not dependent on having device protection.\n",
    "- (H_a): Rate of churn is dependent on having device protection."
   ]
  },
  {
   "cell_type": "code",
   "execution_count": 54,
   "metadata": {},
   "outputs": [
    {
     "data": {
      "text/html": [
       "<div>\n",
       "<style scoped>\n",
       "    .dataframe tbody tr th:only-of-type {\n",
       "        vertical-align: middle;\n",
       "    }\n",
       "\n",
       "    .dataframe tbody tr th {\n",
       "        vertical-align: top;\n",
       "    }\n",
       "\n",
       "    .dataframe thead th {\n",
       "        text-align: right;\n",
       "    }\n",
       "</style>\n",
       "<table border=\"1\" class=\"dataframe\">\n",
       "  <thead>\n",
       "    <tr style=\"text-align: right;\">\n",
       "      <th>churn</th>\n",
       "      <th>No</th>\n",
       "      <th>Yes</th>\n",
       "    </tr>\n",
       "    <tr>\n",
       "      <th>device_protection_encoded</th>\n",
       "      <th></th>\n",
       "      <th></th>\n",
       "    </tr>\n",
       "  </thead>\n",
       "  <tbody>\n",
       "    <tr>\n",
       "      <th>0</th>\n",
       "      <td>2102</td>\n",
       "      <td>836</td>\n",
       "    </tr>\n",
       "    <tr>\n",
       "      <th>1</th>\n",
       "      <td>1202</td>\n",
       "      <td>360</td>\n",
       "    </tr>\n",
       "  </tbody>\n",
       "</table>\n",
       "</div>"
      ],
      "text/plain": [
       "churn                        No  Yes\n",
       "device_protection_encoded           \n",
       "0                          2102  836\n",
       "1                          1202  360"
      ]
     },
     "execution_count": 54,
     "metadata": {},
     "output_type": "execute_result"
    }
   ],
   "source": [
    "device_protection_ctab = pd.crosstab(train.device_protection_encoded, train.churn)\n",
    "device_protection_ctab"
   ]
  },
  {
   "cell_type": "code",
   "execution_count": 55,
   "metadata": {},
   "outputs": [
    {
     "name": "stdout",
     "output_type": "stream",
     "text": [
      "[[2157.14488889  780.85511111]\n",
      " [1146.85511111  415.14488889]]\n",
      "p-val: 0.00010723338113471185\n"
     ]
    }
   ],
   "source": [
    "chi2, p_device_protection, degf, expected_device_protection = stats.chi2_contingency(device_protection_ctab)\n",
    "print(expected_device_protection)\n",
    "print(f\"p-val: {p_device_protection}\")"
   ]
  },
  {
   "cell_type": "code",
   "execution_count": 56,
   "metadata": {},
   "outputs": [
    {
     "name": "stdout",
     "output_type": "stream",
     "text": [
      "We reject the null hypothesis.\n"
     ]
    }
   ],
   "source": [
    "if p_device_protection < alpha:\n",
    "    print(\"We reject the null hypothesis.\")\n",
    "else:\n",
    "    print(\"We fail to reject the null hypothesis.\")"
   ]
  },
  {
   "cell_type": "markdown",
   "metadata": {},
   "source": [
    "### Tech Support\n",
    "Initial Hypotheses \n",
    "- (H_0): Rate of churn is not dependent on having tech support.\n",
    "- (H_a): Rate of churn is dependent on having tech support."
   ]
  },
  {
   "cell_type": "code",
   "execution_count": 57,
   "metadata": {},
   "outputs": [
    {
     "data": {
      "text/html": [
       "<div>\n",
       "<style scoped>\n",
       "    .dataframe tbody tr th:only-of-type {\n",
       "        vertical-align: middle;\n",
       "    }\n",
       "\n",
       "    .dataframe tbody tr th {\n",
       "        vertical-align: top;\n",
       "    }\n",
       "\n",
       "    .dataframe thead th {\n",
       "        text-align: right;\n",
       "    }\n",
       "</style>\n",
       "<table border=\"1\" class=\"dataframe\">\n",
       "  <thead>\n",
       "    <tr style=\"text-align: right;\">\n",
       "      <th>churn</th>\n",
       "      <th>No</th>\n",
       "      <th>Yes</th>\n",
       "    </tr>\n",
       "    <tr>\n",
       "      <th>tech_support_encoded</th>\n",
       "      <th></th>\n",
       "      <th></th>\n",
       "    </tr>\n",
       "  </thead>\n",
       "  <tbody>\n",
       "    <tr>\n",
       "      <th>0</th>\n",
       "      <td>2208</td>\n",
       "      <td>989</td>\n",
       "    </tr>\n",
       "    <tr>\n",
       "      <th>1</th>\n",
       "      <td>1096</td>\n",
       "      <td>207</td>\n",
       "    </tr>\n",
       "  </tbody>\n",
       "</table>\n",
       "</div>"
      ],
      "text/plain": [
       "churn                   No  Yes\n",
       "tech_support_encoded           \n",
       "0                     2208  989\n",
       "1                     1096  207"
      ]
     },
     "execution_count": 57,
     "metadata": {},
     "output_type": "execute_result"
    }
   ],
   "source": [
    "tech_support_ctab = pd.crosstab(train.tech_support_encoded, train.churn)\n",
    "tech_support_ctab"
   ]
  },
  {
   "cell_type": "code",
   "execution_count": 58,
   "metadata": {},
   "outputs": [
    {
     "name": "stdout",
     "output_type": "stream",
     "text": [
      "[[2347.30844444  849.69155556]\n",
      " [ 956.69155556  346.30844444]]\n",
      "p-val: 5.278670925580677e-25\n"
     ]
    }
   ],
   "source": [
    "chi2, p_tech_support, degf, expected_tech_support = stats.chi2_contingency(tech_support_ctab)\n",
    "print(expected_tech_support)\n",
    "print(f\"p-val: {p_tech_support}\")"
   ]
  },
  {
   "cell_type": "code",
   "execution_count": 59,
   "metadata": {},
   "outputs": [
    {
     "name": "stdout",
     "output_type": "stream",
     "text": [
      "We reject the null hypothesis.\n"
     ]
    }
   ],
   "source": [
    "if p_tech_support < alpha:\n",
    "    print(\"We reject the null hypothesis.\")\n",
    "else:\n",
    "    print(\"We fail to reject the null hypothesis.\")"
   ]
  },
  {
   "cell_type": "markdown",
   "metadata": {},
   "source": [
    "### Paperless Billing\n",
    "Initial Hypotheses \n",
    "- (H_0): Rate of churn is not dependent on having paperless billing.\n",
    "- (H_a): Rate of churn is dependent on having paperless billing."
   ]
  },
  {
   "cell_type": "code",
   "execution_count": 60,
   "metadata": {},
   "outputs": [
    {
     "data": {
      "text/html": [
       "<div>\n",
       "<style scoped>\n",
       "    .dataframe tbody tr th:only-of-type {\n",
       "        vertical-align: middle;\n",
       "    }\n",
       "\n",
       "    .dataframe tbody tr th {\n",
       "        vertical-align: top;\n",
       "    }\n",
       "\n",
       "    .dataframe thead th {\n",
       "        text-align: right;\n",
       "    }\n",
       "</style>\n",
       "<table border=\"1\" class=\"dataframe\">\n",
       "  <thead>\n",
       "    <tr style=\"text-align: right;\">\n",
       "      <th>churn</th>\n",
       "      <th>No</th>\n",
       "      <th>Yes</th>\n",
       "    </tr>\n",
       "    <tr>\n",
       "      <th>paperless_billing_encoded</th>\n",
       "      <th></th>\n",
       "      <th></th>\n",
       "    </tr>\n",
       "  </thead>\n",
       "  <tbody>\n",
       "    <tr>\n",
       "      <th>0</th>\n",
       "      <td>1544</td>\n",
       "      <td>302</td>\n",
       "    </tr>\n",
       "    <tr>\n",
       "      <th>1</th>\n",
       "      <td>1760</td>\n",
       "      <td>894</td>\n",
       "    </tr>\n",
       "  </tbody>\n",
       "</table>\n",
       "</div>"
      ],
      "text/plain": [
       "churn                        No  Yes\n",
       "paperless_billing_encoded           \n",
       "0                          1544  302\n",
       "1                          1760  894"
      ]
     },
     "execution_count": 60,
     "metadata": {},
     "output_type": "execute_result"
    }
   ],
   "source": [
    "paperless_ctab = pd.crosstab(train.paperless_billing_encoded, train.churn)\n",
    "paperless_ctab"
   ]
  },
  {
   "cell_type": "code",
   "execution_count": 61,
   "metadata": {},
   "outputs": [
    {
     "name": "stdout",
     "output_type": "stream",
     "text": [
      "[[1355.37422222  490.62577778]\n",
      " [1948.62577778  705.37422222]]\n",
      "p-val: 4.1261642015393425e-38\n"
     ]
    }
   ],
   "source": [
    "chi2, p_paperless, degf, expected_paperless = stats.chi2_contingency(paperless_ctab)\n",
    "print(expected_paperless)\n",
    "print(f\"p-val: {p_paperless}\")"
   ]
  },
  {
   "cell_type": "code",
   "execution_count": 62,
   "metadata": {},
   "outputs": [
    {
     "name": "stdout",
     "output_type": "stream",
     "text": [
      "We reject the null hypothesis.\n"
     ]
    }
   ],
   "source": [
    "if p_paperless < alpha:\n",
    "    print(\"We reject the null hypothesis.\")\n",
    "else:\n",
    "    print(\"We fail to reject the null hypothesis.\")"
   ]
  },
  {
   "cell_type": "markdown",
   "metadata": {},
   "source": [
    "### Month to Month Contracts\n",
    "Initial Hypotheses \n",
    "- (H_0): Rate of churn is not dependent on having a month to month contract.\n",
    "- (H_a): Rate of churn is dependent on having a month to month contract."
   ]
  },
  {
   "cell_type": "code",
   "execution_count": 63,
   "metadata": {},
   "outputs": [
    {
     "data": {
      "text/html": [
       "<div>\n",
       "<style scoped>\n",
       "    .dataframe tbody tr th:only-of-type {\n",
       "        vertical-align: middle;\n",
       "    }\n",
       "\n",
       "    .dataframe tbody tr th {\n",
       "        vertical-align: top;\n",
       "    }\n",
       "\n",
       "    .dataframe thead th {\n",
       "        text-align: right;\n",
       "    }\n",
       "</style>\n",
       "<table border=\"1\" class=\"dataframe\">\n",
       "  <thead>\n",
       "    <tr style=\"text-align: right;\">\n",
       "      <th>churn</th>\n",
       "      <th>No</th>\n",
       "      <th>Yes</th>\n",
       "    </tr>\n",
       "    <tr>\n",
       "      <th>month_to_month_encoded</th>\n",
       "      <th></th>\n",
       "      <th></th>\n",
       "    </tr>\n",
       "  </thead>\n",
       "  <tbody>\n",
       "    <tr>\n",
       "      <th>0</th>\n",
       "      <td>1871</td>\n",
       "      <td>138</td>\n",
       "    </tr>\n",
       "    <tr>\n",
       "      <th>1</th>\n",
       "      <td>1433</td>\n",
       "      <td>1058</td>\n",
       "    </tr>\n",
       "  </tbody>\n",
       "</table>\n",
       "</div>"
      ],
      "text/plain": [
       "churn                     No   Yes\n",
       "month_to_month_encoded            \n",
       "0                       1871   138\n",
       "1                       1433  1058"
      ]
     },
     "execution_count": 63,
     "metadata": {},
     "output_type": "execute_result"
    }
   ],
   "source": [
    "month_to_month_ctab = pd.crosstab(train.month_to_month_encoded, train.churn)\n",
    "month_to_month_ctab"
   ]
  },
  {
   "cell_type": "code",
   "execution_count": 64,
   "metadata": {},
   "outputs": [
    {
     "name": "stdout",
     "output_type": "stream",
     "text": [
      "[[1475.05244444  533.94755556]\n",
      " [1828.94755556  662.05244444]]\n",
      "p-val: 9.94407895226434e-159\n"
     ]
    }
   ],
   "source": [
    "chi2, p_month_to_month, degf, expected_month_to_month = stats.chi2_contingency(month_to_month_ctab)\n",
    "print(expected_month_to_month)\n",
    "print(f\"p-val: {p_month_to_month}\")"
   ]
  },
  {
   "cell_type": "code",
   "execution_count": 65,
   "metadata": {},
   "outputs": [
    {
     "name": "stdout",
     "output_type": "stream",
     "text": [
      "We reject the null hypothesis.\n"
     ]
    }
   ],
   "source": [
    "if p_month_to_month < alpha:\n",
    "    print(\"We reject the null hypothesis.\")\n",
    "else:\n",
    "    print(\"We fail to reject the null hypothesis.\")"
   ]
  },
  {
   "cell_type": "markdown",
   "metadata": {},
   "source": [
    "### Electronic Check\n",
    "Initial Hypotheses \n",
    "- (H_0): Rate of churn is not dependent on using electronic check as the form of payment.\n",
    "- (H_a): Rate of churn is dependent on using electronic check as the form of payment."
   ]
  },
  {
   "cell_type": "code",
   "execution_count": 66,
   "metadata": {},
   "outputs": [
    {
     "data": {
      "text/html": [
       "<div>\n",
       "<style scoped>\n",
       "    .dataframe tbody tr th:only-of-type {\n",
       "        vertical-align: middle;\n",
       "    }\n",
       "\n",
       "    .dataframe tbody tr th {\n",
       "        vertical-align: top;\n",
       "    }\n",
       "\n",
       "    .dataframe thead th {\n",
       "        text-align: right;\n",
       "    }\n",
       "</style>\n",
       "<table border=\"1\" class=\"dataframe\">\n",
       "  <thead>\n",
       "    <tr style=\"text-align: right;\">\n",
       "      <th>churn</th>\n",
       "      <th>No</th>\n",
       "      <th>Yes</th>\n",
       "    </tr>\n",
       "    <tr>\n",
       "      <th>electronic_check_encoded</th>\n",
       "      <th></th>\n",
       "      <th></th>\n",
       "    </tr>\n",
       "  </thead>\n",
       "  <tbody>\n",
       "    <tr>\n",
       "      <th>0</th>\n",
       "      <td>2482</td>\n",
       "      <td>524</td>\n",
       "    </tr>\n",
       "    <tr>\n",
       "      <th>1</th>\n",
       "      <td>822</td>\n",
       "      <td>672</td>\n",
       "    </tr>\n",
       "  </tbody>\n",
       "</table>\n",
       "</div>"
      ],
      "text/plain": [
       "churn                       No  Yes\n",
       "electronic_check_encoded           \n",
       "0                         2482  524\n",
       "1                          822  672"
      ]
     },
     "execution_count": 66,
     "metadata": {},
     "output_type": "execute_result"
    }
   ],
   "source": [
    "electronic_check_ctab = pd.crosstab(train.electronic_check_encoded, train.churn)\n",
    "electronic_check_ctab"
   ]
  },
  {
   "cell_type": "code",
   "execution_count": 67,
   "metadata": {},
   "outputs": [
    {
     "name": "stdout",
     "output_type": "stream",
     "text": [
      "[[2207.072  798.928]\n",
      " [1096.928  397.072]]\n",
      "p-val: 4.309960183889198e-86\n"
     ]
    }
   ],
   "source": [
    "chi2, p_electronic_check, degf, expected_electronic_check = stats.chi2_contingency(electronic_check_ctab)\n",
    "print(expected_electronic_check)\n",
    "print(f\"p-val: {p_electronic_check}\")"
   ]
  },
  {
   "cell_type": "code",
   "execution_count": 68,
   "metadata": {},
   "outputs": [
    {
     "name": "stdout",
     "output_type": "stream",
     "text": [
      "We reject the null hypothesis.\n"
     ]
    }
   ],
   "source": [
    "if p_electronic_check < alpha:\n",
    "    print(\"We reject the null hypothesis.\")\n",
    "else:\n",
    "    print(\"We fail to reject the null hypothesis.\")"
   ]
  },
  {
   "cell_type": "markdown",
   "metadata": {},
   "source": [
    "### Tenure\n",
    "Initial Hypotheses\n",
    "- (H_0): There is no linear correlation between the monthly tenure and the rate of churn.\n",
    "- (H_a): There is a linear correlation between the monthly tenure and the rate of churn."
   ]
  },
  {
   "cell_type": "code",
   "execution_count": 69,
   "metadata": {},
   "outputs": [],
   "source": [
    "n = train.shape[0]     # number of observations\n",
    "degf = n - 2        # degrees of freedom: the # of values in the final calculation of a statistic that are free to vary.\n",
    "conf_interval = .99 # desired confidence interval\n",
    "alpha = 1 - conf_interval"
   ]
  },
  {
   "cell_type": "code",
   "execution_count": 70,
   "metadata": {},
   "outputs": [
    {
     "data": {
      "text/plain": [
       "(-0.3517299409792577, 3.4605013847339375e-131)"
      ]
     },
     "execution_count": 70,
     "metadata": {},
     "output_type": "execute_result"
    }
   ],
   "source": [
    "corr, p_tenure = stats.pearsonr(train.tenure, train.churn_encoded)\n",
    "corr, p_tenure"
   ]
  },
  {
   "cell_type": "code",
   "execution_count": 71,
   "metadata": {},
   "outputs": [
    {
     "name": "stdout",
     "output_type": "stream",
     "text": [
      "We reject the null hypothesis.\n"
     ]
    }
   ],
   "source": [
    "if p_tenure < alpha:\n",
    "    print(\"We reject the null hypothesis.\")\n",
    "else:\n",
    "    print(\"We fail to reject the null hypothesis.\")"
   ]
  },
  {
   "cell_type": "markdown",
   "metadata": {},
   "source": [
    "### Yearly Tenure\n",
    "Initial Hypotheses\n",
    "- (H_0): There is no linear correlation between the yearly tenure and the rate of churn.\n",
    "- (H_a): There is a linear correlation between the yearly tenure and the rate of churn."
   ]
  },
  {
   "cell_type": "code",
   "execution_count": 72,
   "metadata": {},
   "outputs": [
    {
     "data": {
      "text/plain": [
       "(-0.33807994994440416, 9.895860992184229e-121)"
      ]
     },
     "execution_count": 72,
     "metadata": {},
     "output_type": "execute_result"
    }
   ],
   "source": [
    "corr, p_yearly_tenure = stats.pearsonr(train.yearly_tenure, train.churn_encoded)\n",
    "corr, p_yearly_tenure"
   ]
  },
  {
   "cell_type": "code",
   "execution_count": 73,
   "metadata": {},
   "outputs": [
    {
     "name": "stdout",
     "output_type": "stream",
     "text": [
      "We reject the null hypothesis.\n"
     ]
    }
   ],
   "source": [
    "if p_yearly_tenure < alpha:\n",
    "    print(\"We reject the null hypothesis.\")\n",
    "else:\n",
    "    print(\"We fail to reject the null hypothesis.\")"
   ]
  },
  {
   "cell_type": "markdown",
   "metadata": {},
   "source": [
    "### Monthly Charges\n",
    "Initial Hypotheses\n",
    "- (H_0): There is no linear correlation between the monthly charges and the rate of churn.\n",
    "- (H_a): There is a linear correlation between the monthly charges and the rate of churn."
   ]
  },
  {
   "cell_type": "code",
   "execution_count": 74,
   "metadata": {},
   "outputs": [
    {
     "data": {
      "text/plain": [
       "(0.19772518844763115, 6.684803751537754e-41)"
      ]
     },
     "execution_count": 74,
     "metadata": {},
     "output_type": "execute_result"
    }
   ],
   "source": [
    "corr, p_monthly_charges = stats.pearsonr(train.monthly_charges, train.churn_encoded)\n",
    "corr, p_monthly_charges"
   ]
  },
  {
   "cell_type": "code",
   "execution_count": 75,
   "metadata": {},
   "outputs": [
    {
     "name": "stdout",
     "output_type": "stream",
     "text": [
      "We reject the null hypothesis.\n"
     ]
    }
   ],
   "source": [
    "if p_monthly_charges < alpha:\n",
    "    print(\"We reject the null hypothesis.\")\n",
    "else:\n",
    "    print(\"We fail to reject the null hypothesis.\")"
   ]
  },
  {
   "cell_type": "markdown",
   "metadata": {},
   "source": [
    "### Total Charges\n",
    "Initial Hypotheses\n",
    "- (H_0): There is no linear correlation between the yearly charges and the rate of churn.\n",
    "- (H_a): There is a linear correlation between the yearly charges and the rate of churn."
   ]
  },
  {
   "cell_type": "code",
   "execution_count": 76,
   "metadata": {},
   "outputs": [
    {
     "data": {
      "text/plain": [
       "(-0.19374669433973696, 2.6040601649849352e-39)"
      ]
     },
     "execution_count": 76,
     "metadata": {},
     "output_type": "execute_result"
    }
   ],
   "source": [
    "corr, p_total_charges = stats.pearsonr(train.total_charges, train.churn_encoded)\n",
    "corr, p_total_charges"
   ]
  },
  {
   "cell_type": "code",
   "execution_count": 77,
   "metadata": {},
   "outputs": [
    {
     "name": "stdout",
     "output_type": "stream",
     "text": [
      "We reject the null hypothesis.\n"
     ]
    }
   ],
   "source": [
    "if p_total_charges < alpha:\n",
    "    print(\"We reject the null hypothesis.\")\n",
    "else:\n",
    "    print(\"We fail to reject the null hypothesis.\")"
   ]
  },
  {
   "cell_type": "markdown",
   "metadata": {},
   "source": [
    "### Summary of p-values"
   ]
  },
  {
   "cell_type": "code",
   "execution_count": 78,
   "metadata": {},
   "outputs": [
    {
     "data": {
      "text/html": [
       "<div>\n",
       "<style scoped>\n",
       "    .dataframe tbody tr th:only-of-type {\n",
       "        vertical-align: middle;\n",
       "    }\n",
       "\n",
       "    .dataframe tbody tr th {\n",
       "        vertical-align: top;\n",
       "    }\n",
       "\n",
       "    .dataframe thead th {\n",
       "        text-align: right;\n",
       "    }\n",
       "</style>\n",
       "<table border=\"1\" class=\"dataframe\">\n",
       "  <thead>\n",
       "    <tr style=\"text-align: right;\">\n",
       "      <th></th>\n",
       "      <th>Feature</th>\n",
       "      <th>p-value</th>\n",
       "    </tr>\n",
       "  </thead>\n",
       "  <tbody>\n",
       "    <tr>\n",
       "      <th>9</th>\n",
       "      <td>Month to Month Contracts</td>\n",
       "      <td>9.944079e-159</td>\n",
       "    </tr>\n",
       "    <tr>\n",
       "      <th>11</th>\n",
       "      <td>Monthly Tenure</td>\n",
       "      <td>3.460501e-131</td>\n",
       "    </tr>\n",
       "    <tr>\n",
       "      <th>12</th>\n",
       "      <td>Yearly Tenure</td>\n",
       "      <td>9.895861e-121</td>\n",
       "    </tr>\n",
       "    <tr>\n",
       "      <th>4</th>\n",
       "      <td>Fiber Optic</td>\n",
       "      <td>3.567904e-100</td>\n",
       "    </tr>\n",
       "    <tr>\n",
       "      <th>10</th>\n",
       "      <td>Electronic Check Payments</td>\n",
       "      <td>4.309960e-86</td>\n",
       "    </tr>\n",
       "    <tr>\n",
       "      <th>5</th>\n",
       "      <td>Has Internet</td>\n",
       "      <td>1.298496e-53</td>\n",
       "    </tr>\n",
       "    <tr>\n",
       "      <th>13</th>\n",
       "      <td>Monthly Charges</td>\n",
       "      <td>6.684804e-41</td>\n",
       "    </tr>\n",
       "    <tr>\n",
       "      <th>14</th>\n",
       "      <td>Total Charges</td>\n",
       "      <td>2.604060e-39</td>\n",
       "    </tr>\n",
       "    <tr>\n",
       "      <th>8</th>\n",
       "      <td>Paperless Billing</td>\n",
       "      <td>4.126164e-38</td>\n",
       "    </tr>\n",
       "    <tr>\n",
       "      <th>1</th>\n",
       "      <td>Number of Relationships</td>\n",
       "      <td>2.884206e-36</td>\n",
       "    </tr>\n",
       "    <tr>\n",
       "      <th>0</th>\n",
       "      <td>Senior Citizen</td>\n",
       "      <td>5.509371e-28</td>\n",
       "    </tr>\n",
       "    <tr>\n",
       "      <th>2</th>\n",
       "      <td>Number of Online Services</td>\n",
       "      <td>1.814309e-26</td>\n",
       "    </tr>\n",
       "    <tr>\n",
       "      <th>7</th>\n",
       "      <td>Tech Support</td>\n",
       "      <td>5.278671e-25</td>\n",
       "    </tr>\n",
       "    <tr>\n",
       "      <th>3</th>\n",
       "      <td>DSL</td>\n",
       "      <td>2.456346e-18</td>\n",
       "    </tr>\n",
       "    <tr>\n",
       "      <th>6</th>\n",
       "      <td>Device Protection</td>\n",
       "      <td>1.072334e-04</td>\n",
       "    </tr>\n",
       "  </tbody>\n",
       "</table>\n",
       "</div>"
      ],
      "text/plain": [
       "                      Feature        p-value\n",
       "9    Month to Month Contracts  9.944079e-159\n",
       "11             Monthly Tenure  3.460501e-131\n",
       "12              Yearly Tenure  9.895861e-121\n",
       "4                 Fiber Optic  3.567904e-100\n",
       "10  Electronic Check Payments   4.309960e-86\n",
       "5                Has Internet   1.298496e-53\n",
       "13            Monthly Charges   6.684804e-41\n",
       "14              Total Charges   2.604060e-39\n",
       "8           Paperless Billing   4.126164e-38\n",
       "1     Number of Relationships   2.884206e-36\n",
       "0              Senior Citizen   5.509371e-28\n",
       "2   Number of Online Services   1.814309e-26\n",
       "7                Tech Support   5.278671e-25\n",
       "3                         DSL   2.456346e-18\n",
       "6           Device Protection   1.072334e-04"
      ]
     },
     "execution_count": 78,
     "metadata": {},
     "output_type": "execute_result"
    }
   ],
   "source": [
    "p_values_all = {'Feature': ['Senior Citizen', 'Number of Relationships', 'Number of Online Services', 'DSL', 'Fiber Optic', 'Has Internet', 'Device Protection', 'Tech Support', 'Paperless Billing', 'Month to Month Contracts', 'Electronic Check Payments', 'Monthly Tenure', 'Yearly Tenure', 'Monthly Charges', 'Total Charges'], 'p-value': [p_senior, p_relationships, p_online_services, p_dsl, p_fiber_optic, p_has_internet, p_device_protection, p_tech_support, p_paperless, p_month_to_month, p_electronic_check, p_tenure, p_yearly_tenure, p_monthly_charges, p_total_charges]}\n",
    "p_df = pd.DataFrame(data=p_values_all)\n",
    "p_df.sort_values(by=['p-value'])"
   ]
  },
  {
   "cell_type": "markdown",
   "metadata": {},
   "source": [
    "# Modeling"
   ]
  },
  {
   "cell_type": "markdown",
   "metadata": {},
   "source": [
    "All of the features investigated rejected the null hypotheses in their respective statistical tests. \n",
    "In order to narrow down the features passed into the models to avoid excessive dimensionality, we will use features that had the smallest p-values. \n",
    "\n",
    "1. Month-to-month contract status: This has the smallest p-value\n",
    "2. Monthly tenure: This is similar to yearly tenure both in the size of the coefficient as well as the p-value, so we will use monthly tenure instead of yearly tenure.\n",
    "3. Fiber optic use: Customers with fiber optic plans appear to be churning at a very high rate, so we will include this feature.\n",
    "4. Electronic check payment type: Customers who pay by this method are churning at a much higher rate\n",
    "5. Has Internet: Although fiber optics use covers this partially, there is still enough additional information provided by this feature to include it.\n",
    "6. Monthly charges: This is similar to total charges, but I suspect that the model will perform better with this feature instead of total charges, as total charges is likely dependent on tenure. "
   ]
  },
  {
   "cell_type": "markdown",
   "metadata": {},
   "source": [
    "Because I am trying to predict the customers that will churn, the positive variable will be churn = 1 in my models. \n",
    "\n",
    "Possible Outcomes:\n",
    "- TP: Predict that a customer will churn and they do\n",
    "- TN: Predict that a customer will not churn and they do not\n",
    "- FP: Predict that a customer will churn but they do not\n",
    "- FN: Predict that a customer will not churn but they do\n",
    "\n",
    "I am trying to identify customers that will churn so I want to minimize false negatives. Accuracy will be the primary measure for selecting a top model, followed by recall. "
   ]
  },
  {
   "cell_type": "code",
   "execution_count": 79,
   "metadata": {},
   "outputs": [],
   "source": [
    "def feature_target_selector(features, target, train=train, validate=validate, test=test):\n",
    "    X_train = train[features]\n",
    "    y_train = train[target]\n",
    "    X_validate = validate[features]\n",
    "    y_validate = validate[target]\n",
    "    X_test = test[features]\n",
    "    y_test = test[target]\n",
    "    return X_train, y_train, X_validate, y_validate, X_test, y_test"
   ]
  },
  {
   "cell_type": "code",
   "execution_count": 80,
   "metadata": {},
   "outputs": [
    {
     "data": {
      "text/plain": [
       "Index(['customer_id', 'gender', 'senior_citizen', 'partner', 'dependents',\n",
       "       'tenure', 'phone_service', 'multiple_lines', 'internet_service_type_id',\n",
       "       'online_security', 'online_backup', 'device_protection', 'tech_support',\n",
       "       'streaming_tv', 'streaming_movies', 'contract_type_id',\n",
       "       'paperless_billing', 'payment_type_id', 'monthly_charges',\n",
       "       'total_charges', 'churn', 'gender_encoded', 'partner_encoded',\n",
       "       'dependents_encoded', 'phone_service_encoded', 'multiple_lines_encoded',\n",
       "       'online_security_encoded', 'online_backup_encoded',\n",
       "       'device_protection_encoded', 'tech_support_encoded',\n",
       "       'streaming_tv_encoded', 'streaming_movies_encoded',\n",
       "       'paperless_billing_encoded', 'churn_encoded', 'number_phone_lines',\n",
       "       'number_relationships', 'number_streaming_services',\n",
       "       'number_online_services', 'yearly_tenure', 'dsl_encoded',\n",
       "       'fiber_optic_encoded', 'has_internet', 'electronic_check_encoded',\n",
       "       'mailed_check_encoded', 'bank_transfer_encoded', 'credit_card_encoded',\n",
       "       'month_to_month_encoded', 'one_year_contract_encoded',\n",
       "       'two_year_contract_encoded'],\n",
       "      dtype='object')"
      ]
     },
     "execution_count": 80,
     "metadata": {},
     "output_type": "execute_result"
    }
   ],
   "source": [
    "train.columns"
   ]
  },
  {
   "cell_type": "code",
   "execution_count": 81,
   "metadata": {},
   "outputs": [],
   "source": [
    "features = ['month_to_month_encoded', 'tenure', 'fiber_optic_encoded', 'electronic_check_encoded', 'has_internet', 'monthly_charges']\n",
    "target = ['churn_encoded']\n",
    "X_train, y_train, X_validate, y_validate, X_test, y_test = feature_target_selector(features, target)"
   ]
  },
  {
   "cell_type": "markdown",
   "metadata": {},
   "source": [
    "## Establishing Baseline"
   ]
  },
  {
   "cell_type": "markdown",
   "metadata": {},
   "source": [
    "Our baseline is a model with no features that predicts no churn (churn = 0) 100% of the time. "
   ]
  },
  {
   "cell_type": "code",
   "execution_count": 82,
   "metadata": {},
   "outputs": [
    {
     "data": {
      "text/html": [
       "<div>\n",
       "<style scoped>\n",
       "    .dataframe tbody tr th:only-of-type {\n",
       "        vertical-align: middle;\n",
       "    }\n",
       "\n",
       "    .dataframe tbody tr th {\n",
       "        vertical-align: top;\n",
       "    }\n",
       "\n",
       "    .dataframe thead th {\n",
       "        text-align: right;\n",
       "    }\n",
       "</style>\n",
       "<table border=\"1\" class=\"dataframe\">\n",
       "  <thead>\n",
       "    <tr style=\"text-align: right;\">\n",
       "      <th>baseline</th>\n",
       "      <th>0</th>\n",
       "    </tr>\n",
       "    <tr>\n",
       "      <th>actual</th>\n",
       "      <th></th>\n",
       "    </tr>\n",
       "  </thead>\n",
       "  <tbody>\n",
       "    <tr>\n",
       "      <th>0</th>\n",
       "      <td>1033</td>\n",
       "    </tr>\n",
       "    <tr>\n",
       "      <th>1</th>\n",
       "      <td>374</td>\n",
       "    </tr>\n",
       "  </tbody>\n",
       "</table>\n",
       "</div>"
      ],
      "text/plain": [
       "baseline     0\n",
       "actual        \n",
       "0         1033\n",
       "1          374"
      ]
     },
     "execution_count": 82,
     "metadata": {},
     "output_type": "execute_result"
    }
   ],
   "source": [
    "evaluations = pd.DataFrame({\"actual\": y_validate.churn_encoded})\n",
    "evaluations[\"baseline\"] = 0\n",
    "matrix = pd.crosstab(evaluations.actual, evaluations.baseline)\n",
    "matrix"
   ]
  },
  {
   "cell_type": "code",
   "execution_count": 83,
   "metadata": {},
   "outputs": [
    {
     "name": "stdout",
     "output_type": "stream",
     "text": [
      "Baseline Accuracy: 73.42%\n"
     ]
    }
   ],
   "source": [
    "baseline_accuracy = (evaluations.baseline == evaluations.actual).mean()\n",
    "\n",
    "print(f'Baseline Accuracy: {baseline_accuracy:.2%}')"
   ]
  },
  {
   "cell_type": "markdown",
   "metadata": {},
   "source": [
    "## Logistic Regression"
   ]
  },
  {
   "cell_type": "code",
   "execution_count": 84,
   "metadata": {},
   "outputs": [
    {
     "name": "stdout",
     "output_type": "stream",
     "text": [
      "Coefficient: \n",
      " [[ 9.41294126e-01 -3.33002129e-02  1.17767903e+00  4.57129585e-01\n",
      "   9.28362907e-01  1.14901323e-03]]\n",
      "Intercept: \n",
      " [-2.44634049]\n"
     ]
    }
   ],
   "source": [
    "logit = LogisticRegression(random_state=123, solver='lbfgs')\n",
    "logit.fit(X_train, y_train)\n",
    "print('Coefficient: \\n', logit.coef_)\n",
    "print('Intercept: \\n', logit.intercept_)"
   ]
  },
  {
   "cell_type": "code",
   "execution_count": 85,
   "metadata": {},
   "outputs": [],
   "source": [
    "y_pred1 = logit.predict(X_train)\n",
    "y_pred1_proba = logit.predict_proba(X_train)"
   ]
  },
  {
   "cell_type": "code",
   "execution_count": 86,
   "metadata": {},
   "outputs": [
    {
     "data": {
      "text/plain": [
       "array([[2981,  323],\n",
       "       [ 612,  584]])"
      ]
     },
     "execution_count": 86,
     "metadata": {},
     "output_type": "execute_result"
    }
   ],
   "source": [
    "confusion_matrix(y_train, y_pred1)"
   ]
  },
  {
   "cell_type": "code",
   "execution_count": 87,
   "metadata": {},
   "outputs": [
    {
     "name": "stdout",
     "output_type": "stream",
     "text": [
      "Positive is defined as churning (churn = 1)\n",
      "True positives: 584\n",
      "False negatives: 612\n",
      "False positives: 323\n",
      "True negatives: 2981\n"
     ]
    }
   ],
   "source": [
    "def print_return_cm_details(y_pred, y_train=y_train):\n",
    "    true_positive_count = confusion_matrix(y_train, y_pred)[1][1]\n",
    "    print(f'True positives: {true_positive_count}')\n",
    "    false_negative_count = confusion_matrix(y_train, y_pred)[1][0]\n",
    "    print(f'False negatives: {false_negative_count}')\n",
    "    false_positive_count = confusion_matrix(y_train, y_pred)[0][1]\n",
    "    print(f'False positives: {false_positive_count}')\n",
    "    true_negative_count = confusion_matrix(y_train, y_pred)[0][0]\n",
    "    print(f'True negatives: {true_negative_count}')\n",
    "    return true_positive_count, false_negative_count, false_positive_count, true_negative_count\n",
    "\n",
    "print('Positive is defined as churning (churn = 1)')\n",
    "tp, fn, fp, tn = print_return_cm_details(y_pred1)"
   ]
  },
  {
   "cell_type": "code",
   "execution_count": 88,
   "metadata": {},
   "outputs": [
    {
     "name": "stdout",
     "output_type": "stream",
     "text": [
      "              precision    recall  f1-score   support\n",
      "\n",
      "           0       0.83      0.90      0.86      3304\n",
      "           1       0.64      0.49      0.56      1196\n",
      "\n",
      "    accuracy                           0.79      4500\n",
      "   macro avg       0.74      0.70      0.71      4500\n",
      "weighted avg       0.78      0.79      0.78      4500\n",
      "\n"
     ]
    }
   ],
   "source": [
    "print(classification_report(y_train, y_pred1))"
   ]
  },
  {
   "cell_type": "code",
   "execution_count": 89,
   "metadata": {},
   "outputs": [
    {
     "name": "stdout",
     "output_type": "stream",
     "text": [
      "Accuracy of Logistic Regression classifier on training set: 0.79\n",
      "F1 score of Logistic Regression classifier on training set: 0.56\n",
      "Recall of Logistic Regression classifier on training set: 0.49\n"
     ]
    }
   ],
   "source": [
    "print('Accuracy of Logistic Regression classifier on training set: {:.2f}'\n",
    "     .format(logit.score(X_train, y_train)))\n",
    "\n",
    "print('F1 score of Logistic Regression classifier on training set: {:.2f}'\n",
    "     .format(f1_score(y_train, y_pred1)))\n",
    "\n",
    "recall_logit = tp/(tp+fn)\n",
    "\n",
    "print('Recall of Logistic Regression classifier on training set: {:.2f}'\n",
    "     .format(recall_logit))"
   ]
  },
  {
   "cell_type": "markdown",
   "metadata": {},
   "source": [
    "## Decision Tree"
   ]
  },
  {
   "cell_type": "code",
   "execution_count": 90,
   "metadata": {},
   "outputs": [
    {
     "name": "stdout",
     "output_type": "stream",
     "text": [
      "The optimal max_depth is 31\n",
      "The accuracy on the train data at this depth is 0.989\n"
     ]
    },
    {
     "data": {
      "image/png": "[encoded data removed]",
      "text/plain": [
       "<Figure size 432x288 with 1 Axes>"
      ]
     },
     "metadata": {
      "needs_background": "light"
     },
     "output_type": "display_data"
    }
   ],
   "source": [
    "scores = []\n",
    "for i in range(1, 41):\n",
    "    tree = DecisionTreeClassifier(random_state = 1, max_depth = i)\n",
    "    tree.fit(X_train, y_train)\n",
    "    scores.append(tree.score(X_train, y_train))\n",
    "max_train_accuracy = max(scores)\n",
    "max_train_index = scores.index(max_train_accuracy)\n",
    "optimal_train_depth = max_train_index + 1\n",
    "print(f'The optimal max_depth is {optimal_train_depth}')\n",
    "print(f'The accuracy on the train data at this depth is {round(max_train_accuracy, 3)}')\n",
    "\n",
    "plt.plot(range(1,41), scores)\n",
    "plt.show()"
   ]
  },
  {
   "cell_type": "code",
   "execution_count": 91,
   "metadata": {},
   "outputs": [],
   "source": [
    "tree = DecisionTreeClassifier(random_state = 1, max_depth = optimal_train_depth)\n",
    "tree.fit(X_train, y_train)\n",
    "y_pred2 = tree.predict(X_train)\n",
    "y_pred2_proba = tree.predict_proba(X_train)"
   ]
  },
  {
   "cell_type": "code",
   "execution_count": 92,
   "metadata": {},
   "outputs": [
    {
     "data": {
      "text/plain": [
       "array([[3295,    9],\n",
       "       [  42, 1154]])"
      ]
     },
     "execution_count": 92,
     "metadata": {},
     "output_type": "execute_result"
    }
   ],
   "source": [
    "confusion_matrix(y_train, y_pred2)"
   ]
  },
  {
   "cell_type": "code",
   "execution_count": 93,
   "metadata": {},
   "outputs": [
    {
     "name": "stdout",
     "output_type": "stream",
     "text": [
      "Positive is defined as churning (churn = 1)\n",
      "True positives: 1154\n",
      "False negatives: 42\n",
      "False positives: 9\n",
      "True negatives: 3295\n"
     ]
    }
   ],
   "source": [
    "print('Positive is defined as churning (churn = 1)')\n",
    "tp, fn, fp, tn = print_return_cm_details(y_pred2)"
   ]
  },
  {
   "cell_type": "code",
   "execution_count": 94,
   "metadata": {},
   "outputs": [
    {
     "name": "stdout",
     "output_type": "stream",
     "text": [
      "              precision    recall  f1-score   support\n",
      "\n",
      "           0       0.99      1.00      0.99      3304\n",
      "           1       0.99      0.96      0.98      1196\n",
      "\n",
      "    accuracy                           0.99      4500\n",
      "   macro avg       0.99      0.98      0.99      4500\n",
      "weighted avg       0.99      0.99      0.99      4500\n",
      "\n"
     ]
    }
   ],
   "source": [
    "print(classification_report(y_train, y_pred2))"
   ]
  },
  {
   "cell_type": "code",
   "execution_count": 95,
   "metadata": {},
   "outputs": [
    {
     "name": "stdout",
     "output_type": "stream",
     "text": [
      "Accuracy of Decision Tree classifier on training set: 0.99\n",
      "F1 score of Decision Tree classifier on training set: 0.98\n",
      "Recall of Decision Tree classifier on training set: 0.96\n"
     ]
    }
   ],
   "source": [
    "print('Accuracy of Decision Tree classifier on training set: {:.2f}'\n",
    "     .format(tree.score(X_train, y_train)))\n",
    "\n",
    "print('F1 score of Decision Tree classifier on training set: {:.2f}'\n",
    "     .format(f1_score(y_train, y_pred2)))\n",
    "\n",
    "recall_tree = tp/(tp+fn)\n",
    "\n",
    "print('Recall of Decision Tree classifier on training set: {:.2f}'\n",
    "     .format(recall_tree))"
   ]
  },
  {
   "cell_type": "markdown",
   "metadata": {},
   "source": [
    "## Random Forest"
   ]
  },
  {
   "cell_type": "code",
   "execution_count": 96,
   "metadata": {},
   "outputs": [
    {
     "name": "stdout",
     "output_type": "stream",
     "text": [
      "[0.09068552 0.300331   0.05852692 0.03511072 0.01475365 0.50059219]\n",
      "Index(['month_to_month_encoded', 'tenure', 'fiber_optic_encoded',\n",
      "       'electronic_check_encoded', 'has_internet', 'monthly_charges'],\n",
      "      dtype='object')\n"
     ]
    }
   ],
   "source": [
    "rf = RandomForestClassifier(random_state = 123, min_samples_leaf = 1, max_depth = 20)\n",
    "rf.fit(X_train, y_train)\n",
    "print(rf.feature_importances_)\n",
    "print(X_train.columns)"
   ]
  },
  {
   "cell_type": "code",
   "execution_count": 97,
   "metadata": {},
   "outputs": [
    {
     "name": "stdout",
     "output_type": "stream",
     "text": [
      "[[3279   25]\n",
      " [  27 1169]]\n"
     ]
    }
   ],
   "source": [
    "y_pred3 = rf.predict(X_train)\n",
    "y_pred3_proba = rf.predict_proba(X_train)\n",
    "print(confusion_matrix(y_train, y_pred3))"
   ]
  },
  {
   "cell_type": "code",
   "execution_count": 98,
   "metadata": {},
   "outputs": [
    {
     "name": "stdout",
     "output_type": "stream",
     "text": [
      "Positive is defined as churning (churn = 1)\n",
      "True positives: 1169\n",
      "False negatives: 27\n",
      "False positives: 25\n",
      "True negatives: 3279\n"
     ]
    }
   ],
   "source": [
    "print('Positive is defined as churning (churn = 1)')\n",
    "tp, fn, fp, tn = print_return_cm_details(y_pred3)"
   ]
  },
  {
   "cell_type": "code",
   "execution_count": 99,
   "metadata": {},
   "outputs": [
    {
     "name": "stdout",
     "output_type": "stream",
     "text": [
      "              precision    recall  f1-score   support\n",
      "\n",
      "           0       0.99      0.99      0.99      3304\n",
      "           1       0.98      0.98      0.98      1196\n",
      "\n",
      "    accuracy                           0.99      4500\n",
      "   macro avg       0.99      0.98      0.99      4500\n",
      "weighted avg       0.99      0.99      0.99      4500\n",
      "\n"
     ]
    }
   ],
   "source": [
    "print(classification_report(y_train, y_pred3))"
   ]
  },
  {
   "cell_type": "code",
   "execution_count": 100,
   "metadata": {},
   "outputs": [
    {
     "name": "stdout",
     "output_type": "stream",
     "text": [
      "Accuracy of Decision Tree classifier on training set: 0.99\n",
      "F1 score of Decision Tree classifier on training set: 0.98\n",
      "Recall of Decision Tree classifier on training set: 0.98\n"
     ]
    }
   ],
   "source": [
    "print('Accuracy of Decision Tree classifier on training set: {:.2f}'\n",
    "     .format(rf.score(X_train, y_train)))\n",
    "\n",
    "print('F1 score of Decision Tree classifier on training set: {:.2f}'\n",
    "     .format(f1_score(y_train, y_pred3)))\n",
    "\n",
    "recall_rf = tp/(tp+fn)\n",
    "\n",
    "print('Recall of Decision Tree classifier on training set: {:.2f}'\n",
    "     .format(recall_rf))"
   ]
  },
  {
   "cell_type": "markdown",
   "metadata": {},
   "source": [
    "## K-Nearest Neighbors"
   ]
  },
  {
   "cell_type": "code",
   "execution_count": 101,
   "metadata": {},
   "outputs": [],
   "source": [
    "k = math.floor(math.sqrt(X_train.shape[0]))"
   ]
  },
  {
   "cell_type": "code",
   "execution_count": 102,
   "metadata": {},
   "outputs": [],
   "source": [
    "knn = KNeighborsClassifier(n_neighbors=k, weights='uniform') #n_neighbors is based on the sqrt of the number of observations\n",
    "knn.fit(X_train, y_train)\n",
    "y_pred4 = knn.predict(X_train)\n",
    "y_pred4_proba = knn.predict_proba(X_train)"
   ]
  },
  {
   "cell_type": "code",
   "execution_count": 103,
   "metadata": {},
   "outputs": [
    {
     "name": "stdout",
     "output_type": "stream",
     "text": [
      "[[3041  263]\n",
      " [ 659  537]]\n"
     ]
    }
   ],
   "source": [
    "print(confusion_matrix(y_train, y_pred4))"
   ]
  },
  {
   "cell_type": "code",
   "execution_count": 104,
   "metadata": {},
   "outputs": [
    {
     "name": "stdout",
     "output_type": "stream",
     "text": [
      "Positive is defined as churning (churn = 1)\n",
      "True positives: 537\n",
      "False negatives: 659\n",
      "False positives: 263\n",
      "True negatives: 3041\n"
     ]
    }
   ],
   "source": [
    "print('Positive is defined as churning (churn = 1)')\n",
    "tp, fn, fp, tn = print_return_cm_details(y_pred4)"
   ]
  },
  {
   "cell_type": "code",
   "execution_count": 105,
   "metadata": {},
   "outputs": [
    {
     "name": "stdout",
     "output_type": "stream",
     "text": [
      "              precision    recall  f1-score   support\n",
      "\n",
      "           0       0.82      0.92      0.87      3304\n",
      "           1       0.67      0.45      0.54      1196\n",
      "\n",
      "    accuracy                           0.80      4500\n",
      "   macro avg       0.75      0.68      0.70      4500\n",
      "weighted avg       0.78      0.80      0.78      4500\n",
      "\n"
     ]
    }
   ],
   "source": [
    "print(classification_report(y_train, y_pred4))"
   ]
  },
  {
   "cell_type": "code",
   "execution_count": 106,
   "metadata": {},
   "outputs": [
    {
     "name": "stdout",
     "output_type": "stream",
     "text": [
      "Accuracy of Decision Tree classifier on training set: 0.80\n",
      "F1 score of Decision Tree classifier on training set: 0.54\n",
      "Recall of Decision Tree classifier on training set: 0.45\n"
     ]
    }
   ],
   "source": [
    "print('Accuracy of Decision Tree classifier on training set: {:.2f}'\n",
    "     .format(knn.score(X_train, y_train)))\n",
    "\n",
    "print('F1 score of Decision Tree classifier on training set: {:.2f}'\n",
    "     .format(f1_score(y_train, y_pred4)))\n",
    "\n",
    "recall_knn = tp/(tp+fn)\n",
    "\n",
    "print('Recall of Decision Tree classifier on training set: {:.2f}'\n",
    "     .format(recall_knn))"
   ]
  },
  {
   "cell_type": "markdown",
   "metadata": {},
   "source": [
    "## Model Performance on Validate"
   ]
  },
  {
   "cell_type": "code",
   "execution_count": 107,
   "metadata": {},
   "outputs": [
    {
     "name": "stdout",
     "output_type": "stream",
     "text": [
      "Model 1: Logistic Regression\n",
      "Accuracy: 0.80\n",
      "[[922 111]\n",
      " [175 199]]\n",
      "              precision    recall  f1-score   support\n",
      "\n",
      "           0       0.84      0.89      0.87      1033\n",
      "           1       0.64      0.53      0.58       374\n",
      "\n",
      "    accuracy                           0.80      1407\n",
      "   macro avg       0.74      0.71      0.72      1407\n",
      "weighted avg       0.79      0.80      0.79      1407\n",
      "\n"
     ]
    }
   ],
   "source": [
    "print(\"Model 1: Logistic Regression\")\n",
    "\n",
    "print('Accuracy: {:.2f}'.format(logit.score(X_validate, y_validate)))\n",
    "\n",
    "y_pred1 = logit.predict(X_validate)\n",
    "\n",
    "print(confusion_matrix(y_validate, y_pred1))\n",
    "\n",
    "print(classification_report(y_validate, y_pred1))"
   ]
  },
  {
   "cell_type": "code",
   "execution_count": 108,
   "metadata": {},
   "outputs": [
    {
     "name": "stdout",
     "output_type": "stream",
     "text": [
      "Model 2: Decision Tree\n",
      "Accuracy: 0.74\n",
      "[[859 174]\n",
      " [193 181]]\n",
      "              precision    recall  f1-score   support\n",
      "\n",
      "           0       0.82      0.83      0.82      1033\n",
      "           1       0.51      0.48      0.50       374\n",
      "\n",
      "    accuracy                           0.74      1407\n",
      "   macro avg       0.66      0.66      0.66      1407\n",
      "weighted avg       0.74      0.74      0.74      1407\n",
      "\n"
     ]
    }
   ],
   "source": [
    "print(\"Model 2: Decision Tree\")\n",
    "\n",
    "print('Accuracy: {:.2f}'.format(tree.score(X_validate, y_validate)))\n",
    "\n",
    "y_pred2 = tree.predict(X_validate)\n",
    "\n",
    "print(confusion_matrix(y_validate, y_pred2))\n",
    "\n",
    "print(classification_report(y_validate, y_pred2))"
   ]
  },
  {
   "cell_type": "code",
   "execution_count": 109,
   "metadata": {},
   "outputs": [
    {
     "name": "stdout",
     "output_type": "stream",
     "text": [
      "Model 3: Random Forest\n",
      "Accuracy: 0.76\n",
      "[[891 142]\n",
      " [193 181]]\n",
      "              precision    recall  f1-score   support\n",
      "\n",
      "           0       0.82      0.86      0.84      1033\n",
      "           1       0.56      0.48      0.52       374\n",
      "\n",
      "    accuracy                           0.76      1407\n",
      "   macro avg       0.69      0.67      0.68      1407\n",
      "weighted avg       0.75      0.76      0.76      1407\n",
      "\n"
     ]
    }
   ],
   "source": [
    "print(\"Model 3: Random Forest\")\n",
    "\n",
    "print('Accuracy: {:.2f}'.format(rf.score(X_validate, y_validate)))\n",
    "\n",
    "y_pred3 = rf.predict(X_validate)\n",
    "\n",
    "print(confusion_matrix(y_validate, y_pred3))\n",
    "\n",
    "print(classification_report(y_validate, y_pred3))"
   ]
  },
  {
   "cell_type": "code",
   "execution_count": 110,
   "metadata": {},
   "outputs": [
    {
     "name": "stdout",
     "output_type": "stream",
     "text": [
      "Model 4: K-Nearest Neighbors\n",
      "Accuracy: 0.80\n",
      "[[948  85]\n",
      " [200 174]]\n",
      "              precision    recall  f1-score   support\n",
      "\n",
      "           0       0.83      0.92      0.87      1033\n",
      "           1       0.67      0.47      0.55       374\n",
      "\n",
      "    accuracy                           0.80      1407\n",
      "   macro avg       0.75      0.69      0.71      1407\n",
      "weighted avg       0.78      0.80      0.78      1407\n",
      "\n"
     ]
    }
   ],
   "source": [
    "print(\"Model 4: K-Nearest Neighbors\")\n",
    "\n",
    "print('Accuracy: {:.2f}'.format(knn.score(X_validate, y_validate)))\n",
    "\n",
    "y_pred4 = knn.predict(X_validate)\n",
    "\n",
    "print(confusion_matrix(y_validate, y_pred4))\n",
    "\n",
    "print(classification_report(y_validate, y_pred4))"
   ]
  },
  {
   "cell_type": "markdown",
   "metadata": {},
   "source": [
    "### Logistic Regression Model has the highest combination of accuracy and recall"
   ]
  },
  {
   "cell_type": "markdown",
   "metadata": {},
   "source": [
    "## Model Performance on Test"
   ]
  },
  {
   "cell_type": "code",
   "execution_count": 111,
   "metadata": {},
   "outputs": [
    {
     "name": "stdout",
     "output_type": "stream",
     "text": [
      "Test Performance: Logistic Regression\n",
      "Accuracy: 0.7751\n",
      "[[731  95]\n",
      " [158 141]]\n",
      "              precision    recall  f1-score   support\n",
      "\n",
      "           0       0.82      0.88      0.85       826\n",
      "           1       0.60      0.47      0.53       299\n",
      "\n",
      "    accuracy                           0.78      1125\n",
      "   macro avg       0.71      0.68      0.69      1125\n",
      "weighted avg       0.76      0.78      0.77      1125\n",
      "\n"
     ]
    }
   ],
   "source": [
    "print(\"Test Performance: Logistic Regression\")\n",
    "\n",
    "print('Accuracy: {:.4f}'.format(logit.score(X_test, y_test)))\n",
    "\n",
    "y_pred5 = logit.predict(X_test)\n",
    "\n",
    "print(confusion_matrix(y_test, y_pred5))\n",
    "\n",
    "print(classification_report(y_test, y_pred5))"
   ]
  },
  {
   "cell_type": "markdown",
   "metadata": {},
   "source": [
    "#### Baseline has an accuracy of 73.42%\n",
    "\n",
    "#### The developed logistic regression model has an accuracy of 77.51%"
   ]
  },
  {
   "cell_type": "markdown",
   "metadata": {},
   "source": [
    "## Prediction CSV File"
   ]
  },
  {
   "cell_type": "code",
   "execution_count": 112,
   "metadata": {},
   "outputs": [],
   "source": [
    "full_df = prep_telco_data_prediction(telco_original)"
   ]
  },
  {
   "cell_type": "code",
   "execution_count": 113,
   "metadata": {},
   "outputs": [],
   "source": [
    "full_df_trim = full_df[features]"
   ]
  },
  {
   "cell_type": "code",
   "execution_count": 114,
   "metadata": {},
   "outputs": [],
   "source": [
    "full_df['prediction'] = logit.predict(full_df_trim)"
   ]
  },
  {
   "cell_type": "code",
   "execution_count": 115,
   "metadata": {},
   "outputs": [
    {
     "data": {
      "text/html": [
       "<div>\n",
       "<style scoped>\n",
       "    .dataframe tbody tr th:only-of-type {\n",
       "        vertical-align: middle;\n",
       "    }\n",
       "\n",
       "    .dataframe tbody tr th {\n",
       "        vertical-align: top;\n",
       "    }\n",
       "\n",
       "    .dataframe thead th {\n",
       "        text-align: right;\n",
       "    }\n",
       "</style>\n",
       "<table border=\"1\" class=\"dataframe\">\n",
       "  <thead>\n",
       "    <tr style=\"text-align: right;\">\n",
       "      <th></th>\n",
       "      <th>customer_id</th>\n",
       "      <th>gender</th>\n",
       "      <th>senior_citizen</th>\n",
       "      <th>partner</th>\n",
       "      <th>dependents</th>\n",
       "      <th>tenure</th>\n",
       "      <th>phone_service</th>\n",
       "      <th>multiple_lines</th>\n",
       "      <th>internet_service_type_id</th>\n",
       "      <th>online_security</th>\n",
       "      <th>...</th>\n",
       "      <th>fiber_optic_encoded</th>\n",
       "      <th>has_internet</th>\n",
       "      <th>electronic_check_encoded</th>\n",
       "      <th>mailed_check_encoded</th>\n",
       "      <th>bank_transfer_encoded</th>\n",
       "      <th>credit_card_encoded</th>\n",
       "      <th>month_to_month_encoded</th>\n",
       "      <th>one_year_contract_encoded</th>\n",
       "      <th>two_year_contract_encoded</th>\n",
       "      <th>prediction</th>\n",
       "    </tr>\n",
       "  </thead>\n",
       "  <tbody>\n",
       "    <tr>\n",
       "      <th>0</th>\n",
       "      <td>0002-ORFBO</td>\n",
       "      <td>Female</td>\n",
       "      <td>0</td>\n",
       "      <td>Yes</td>\n",
       "      <td>Yes</td>\n",
       "      <td>9</td>\n",
       "      <td>Yes</td>\n",
       "      <td>No</td>\n",
       "      <td>1</td>\n",
       "      <td>No</td>\n",
       "      <td>...</td>\n",
       "      <td>0</td>\n",
       "      <td>1</td>\n",
       "      <td>0</td>\n",
       "      <td>1</td>\n",
       "      <td>0</td>\n",
       "      <td>0</td>\n",
       "      <td>0</td>\n",
       "      <td>1</td>\n",
       "      <td>0</td>\n",
       "      <td>0</td>\n",
       "    </tr>\n",
       "    <tr>\n",
       "      <th>1</th>\n",
       "      <td>0003-MKNFE</td>\n",
       "      <td>Male</td>\n",
       "      <td>0</td>\n",
       "      <td>No</td>\n",
       "      <td>No</td>\n",
       "      <td>9</td>\n",
       "      <td>Yes</td>\n",
       "      <td>Yes</td>\n",
       "      <td>1</td>\n",
       "      <td>No</td>\n",
       "      <td>...</td>\n",
       "      <td>0</td>\n",
       "      <td>1</td>\n",
       "      <td>0</td>\n",
       "      <td>1</td>\n",
       "      <td>0</td>\n",
       "      <td>0</td>\n",
       "      <td>1</td>\n",
       "      <td>0</td>\n",
       "      <td>0</td>\n",
       "      <td>0</td>\n",
       "    </tr>\n",
       "    <tr>\n",
       "      <th>2</th>\n",
       "      <td>0004-TLHLJ</td>\n",
       "      <td>Male</td>\n",
       "      <td>0</td>\n",
       "      <td>No</td>\n",
       "      <td>No</td>\n",
       "      <td>4</td>\n",
       "      <td>Yes</td>\n",
       "      <td>No</td>\n",
       "      <td>2</td>\n",
       "      <td>No</td>\n",
       "      <td>...</td>\n",
       "      <td>1</td>\n",
       "      <td>1</td>\n",
       "      <td>1</td>\n",
       "      <td>0</td>\n",
       "      <td>0</td>\n",
       "      <td>0</td>\n",
       "      <td>1</td>\n",
       "      <td>0</td>\n",
       "      <td>0</td>\n",
       "      <td>1</td>\n",
       "    </tr>\n",
       "    <tr>\n",
       "      <th>3</th>\n",
       "      <td>0011-IGKFF</td>\n",
       "      <td>Male</td>\n",
       "      <td>1</td>\n",
       "      <td>Yes</td>\n",
       "      <td>No</td>\n",
       "      <td>13</td>\n",
       "      <td>Yes</td>\n",
       "      <td>No</td>\n",
       "      <td>2</td>\n",
       "      <td>No</td>\n",
       "      <td>...</td>\n",
       "      <td>1</td>\n",
       "      <td>1</td>\n",
       "      <td>1</td>\n",
       "      <td>0</td>\n",
       "      <td>0</td>\n",
       "      <td>0</td>\n",
       "      <td>1</td>\n",
       "      <td>0</td>\n",
       "      <td>0</td>\n",
       "      <td>1</td>\n",
       "    </tr>\n",
       "    <tr>\n",
       "      <th>4</th>\n",
       "      <td>0013-EXCHZ</td>\n",
       "      <td>Female</td>\n",
       "      <td>1</td>\n",
       "      <td>Yes</td>\n",
       "      <td>No</td>\n",
       "      <td>3</td>\n",
       "      <td>Yes</td>\n",
       "      <td>No</td>\n",
       "      <td>2</td>\n",
       "      <td>No</td>\n",
       "      <td>...</td>\n",
       "      <td>1</td>\n",
       "      <td>1</td>\n",
       "      <td>0</td>\n",
       "      <td>1</td>\n",
       "      <td>0</td>\n",
       "      <td>0</td>\n",
       "      <td>1</td>\n",
       "      <td>0</td>\n",
       "      <td>0</td>\n",
       "      <td>1</td>\n",
       "    </tr>\n",
       "  </tbody>\n",
       "</table>\n",
       "<p>5 rows × 50 columns</p>\n",
       "</div>"
      ],
      "text/plain": [
       "  customer_id  gender  senior_citizen partner dependents  tenure  \\\n",
       "0  0002-ORFBO  Female               0     Yes        Yes       9   \n",
       "1  0003-MKNFE    Male               0      No         No       9   \n",
       "2  0004-TLHLJ    Male               0      No         No       4   \n",
       "3  0011-IGKFF    Male               1     Yes         No      13   \n",
       "4  0013-EXCHZ  Female               1     Yes         No       3   \n",
       "\n",
       "  phone_service multiple_lines  internet_service_type_id online_security  ...  \\\n",
       "0           Yes             No                         1              No  ...   \n",
       "1           Yes            Yes                         1              No  ...   \n",
       "2           Yes             No                         2              No  ...   \n",
       "3           Yes             No                         2              No  ...   \n",
       "4           Yes             No                         2              No  ...   \n",
       "\n",
       "  fiber_optic_encoded has_internet electronic_check_encoded  \\\n",
       "0                   0            1                        0   \n",
       "1                   0            1                        0   \n",
       "2                   1            1                        1   \n",
       "3                   1            1                        1   \n",
       "4                   1            1                        0   \n",
       "\n",
       "  mailed_check_encoded bank_transfer_encoded  credit_card_encoded  \\\n",
       "0                    1                     0                    0   \n",
       "1                    1                     0                    0   \n",
       "2                    0                     0                    0   \n",
       "3                    0                     0                    0   \n",
       "4                    1                     0                    0   \n",
       "\n",
       "  month_to_month_encoded  one_year_contract_encoded  \\\n",
       "0                      0                          1   \n",
       "1                      1                          0   \n",
       "2                      1                          0   \n",
       "3                      1                          0   \n",
       "4                      1                          0   \n",
       "\n",
       "   two_year_contract_encoded  prediction  \n",
       "0                          0           0  \n",
       "1                          0           0  \n",
       "2                          0           1  \n",
       "3                          0           1  \n",
       "4                          0           1  \n",
       "\n",
       "[5 rows x 50 columns]"
      ]
     },
     "execution_count": 115,
     "metadata": {},
     "output_type": "execute_result"
    }
   ],
   "source": [
    "full_df.head()"
   ]
  },
  {
   "cell_type": "code",
   "execution_count": 116,
   "metadata": {},
   "outputs": [
    {
     "data": {
      "text/html": [
       "<div>\n",
       "<style scoped>\n",
       "    .dataframe tbody tr th:only-of-type {\n",
       "        vertical-align: middle;\n",
       "    }\n",
       "\n",
       "    .dataframe tbody tr th {\n",
       "        vertical-align: top;\n",
       "    }\n",
       "\n",
       "    .dataframe thead th {\n",
       "        text-align: right;\n",
       "    }\n",
       "</style>\n",
       "<table border=\"1\" class=\"dataframe\">\n",
       "  <thead>\n",
       "    <tr style=\"text-align: right;\">\n",
       "      <th></th>\n",
       "      <th>customer_id</th>\n",
       "      <th>prediction</th>\n",
       "    </tr>\n",
       "  </thead>\n",
       "  <tbody>\n",
       "    <tr>\n",
       "      <th>0</th>\n",
       "      <td>0002-ORFBO</td>\n",
       "      <td>0</td>\n",
       "    </tr>\n",
       "    <tr>\n",
       "      <th>1</th>\n",
       "      <td>0003-MKNFE</td>\n",
       "      <td>0</td>\n",
       "    </tr>\n",
       "    <tr>\n",
       "      <th>2</th>\n",
       "      <td>0004-TLHLJ</td>\n",
       "      <td>1</td>\n",
       "    </tr>\n",
       "    <tr>\n",
       "      <th>3</th>\n",
       "      <td>0011-IGKFF</td>\n",
       "      <td>1</td>\n",
       "    </tr>\n",
       "    <tr>\n",
       "      <th>4</th>\n",
       "      <td>0013-EXCHZ</td>\n",
       "      <td>1</td>\n",
       "    </tr>\n",
       "  </tbody>\n",
       "</table>\n",
       "</div>"
      ],
      "text/plain": [
       "  customer_id  prediction\n",
       "0  0002-ORFBO           0\n",
       "1  0003-MKNFE           0\n",
       "2  0004-TLHLJ           1\n",
       "3  0011-IGKFF           1\n",
       "4  0013-EXCHZ           1"
      ]
     },
     "execution_count": 116,
     "metadata": {},
     "output_type": "execute_result"
    }
   ],
   "source": [
    "predictions = full_df[['customer_id', 'prediction']]\n",
    "predictions.head()"
   ]
  },
  {
   "cell_type": "code",
   "execution_count": 117,
   "metadata": {},
   "outputs": [],
   "source": [
    "predictions.to_csv('predictions.csv')"
   ]
  },
  {
   "cell_type": "markdown",
   "metadata": {},
   "source": [
    "# Conclusion"
   ]
  },
  {
   "cell_type": "markdown",
   "metadata": {},
   "source": [
    "A number of factors are contributing to churn. We can attempt to reduce churn by doing the following:\n",
    "1. Marketing to younger families with dependents and partners.\n",
    "2. Promoting online security and online backup to our internet customers.\n",
    "3. Promoting tech support and device protection. \n",
    "4. Discouraging the use of electronic checks for payment purposes.\n",
    "\n",
    "With additional time dedicated to this project:\n",
    "1. Investigate fiber optic customers in greater detail and look at possible combinations of factors that might be driving churn within that group.\n",
    "2. Investigate our pricing structure across various services to identify if our pricing strategy may be suboptimal.\n",
    "3. Improve the readibility of the report via additional comments, markdown cells, and summary tables.\n",
    "4. Include a meaningful readme for github containing project description with goals, a data dictionary, project planning, an explanation of how someone else can recreate this project and findings, and key takeaways from this project.\n",
    "5. Include a data dictionary.\n",
    "6. Increase the number of models to test, especially focusing on hyperparameters and feature engineering to improve model performance. \n",
    "\n",
    "Included in the github repository is a CSV that contains a prediction for every customer, except for customers with 0 tenure. Those customers have 0% chance to be predicted to have churned."
   ]
  },
  {
   "cell_type": "code",
   "execution_count": null,
   "metadata": {},
   "outputs": [],
   "source": []
  }
 ],
 "metadata": {
  "kernelspec": {
   "display_name": "Python 3",
   "language": "python",
   "name": "python3"
  },
  "language_info": {
   "codemirror_mode": {
    "name": "ipython",
    "version": 3
   },
   "file_extension": ".py",
   "mimetype": "text/x-python",
   "name": "python",
   "nbconvert_exporter": "python",
   "pygments_lexer": "ipython3",
   "version": "3.7.6"
  }
 },
 "nbformat": 4,
 "nbformat_minor": 4
}
